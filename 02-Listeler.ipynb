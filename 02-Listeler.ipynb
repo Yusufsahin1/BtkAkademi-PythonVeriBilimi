{
 "cells": [
  {
   "cell_type": "code",
   "execution_count": 2,
   "id": "0db20b84",
   "metadata": {},
   "outputs": [
    {
     "name": "stdout",
     "output_type": "stream",
     "text": [
      "[10, 20, 30, 40]\n"
     ]
    }
   ],
   "source": [
    "benimListem = [10,20,30,40]\n",
    "print(benimListem)\n"
   ]
  },
  {
   "cell_type": "code",
   "execution_count": 3,
   "id": "1b0a4586",
   "metadata": {},
   "outputs": [
    {
     "data": {
      "text/plain": [
       "list"
      ]
     },
     "execution_count": 3,
     "metadata": {},
     "output_type": "execute_result"
    }
   ],
   "source": [
    "type(benimListem)"
   ]
  },
  {
   "cell_type": "code",
   "execution_count": 4,
   "id": "318fa9a5",
   "metadata": {},
   "outputs": [],
   "source": [
    "benimNumaram = 10\n",
    "benimDigerNumaram = 20\n",
    "benimNumaraListem =[benimNumaram, benimDigerNumaram]"
   ]
  },
  {
   "cell_type": "code",
   "execution_count": 5,
   "id": "be466473",
   "metadata": {},
   "outputs": [
    {
     "data": {
      "text/plain": [
       "40"
      ]
     },
     "execution_count": 5,
     "metadata": {},
     "output_type": "execute_result"
    }
   ],
   "source": [
    "benimListem[3]"
   ]
  },
  {
   "cell_type": "code",
   "execution_count": 6,
   "id": "2371b97d",
   "metadata": {},
   "outputs": [
    {
     "data": {
      "text/plain": [
       "20"
      ]
     },
     "execution_count": 6,
     "metadata": {},
     "output_type": "execute_result"
    }
   ],
   "source": [
    "benimNumaraListem[1]"
   ]
  },
  {
   "cell_type": "code",
   "execution_count": 7,
   "id": "6ce9debf",
   "metadata": {},
   "outputs": [
    {
     "data": {
      "text/plain": [
       "[100, 20, 30, 40]"
      ]
     },
     "execution_count": 7,
     "metadata": {},
     "output_type": "execute_result"
    }
   ],
   "source": [
    "benimListem[0] = 100\n",
    "benimListem"
   ]
  },
  {
   "cell_type": "code",
   "execution_count": 8,
   "id": "89a0ae2e",
   "metadata": {},
   "outputs": [],
   "source": [
    "benimListem.append(50)"
   ]
  },
  {
   "cell_type": "code",
   "execution_count": 9,
   "id": "1171f86d",
   "metadata": {},
   "outputs": [
    {
     "data": {
      "text/plain": [
       "[100, 20, 30, 40, 50]"
      ]
     },
     "execution_count": 9,
     "metadata": {},
     "output_type": "execute_result"
    }
   ],
   "source": [
    "benimListem"
   ]
  },
  {
   "cell_type": "code",
   "execution_count": 10,
   "id": "1328dffe",
   "metadata": {},
   "outputs": [
    {
     "data": {
      "text/plain": [
       "[100, 20, 30, 40]"
      ]
     },
     "execution_count": 10,
     "metadata": {},
     "output_type": "execute_result"
    }
   ],
   "source": [
    "benimListem.pop()\n",
    "benimListem"
   ]
  },
  {
   "cell_type": "code",
   "execution_count": 11,
   "id": "fbf2fe3b",
   "metadata": {},
   "outputs": [
    {
     "data": {
      "text/plain": [
       "40"
      ]
     },
     "execution_count": 11,
     "metadata": {},
     "output_type": "execute_result"
    }
   ],
   "source": [
    "benimListem.pop()\n",
    "#pop son elemanı return eder ve listeden siler"
   ]
  },
  {
   "cell_type": "code",
   "execution_count": 12,
   "id": "25a794e4",
   "metadata": {},
   "outputs": [
    {
     "data": {
      "text/plain": [
       "[100, 20, 30]"
      ]
     },
     "execution_count": 12,
     "metadata": {},
     "output_type": "execute_result"
    }
   ],
   "source": [
    "benimListem"
   ]
  },
  {
   "cell_type": "code",
   "execution_count": 13,
   "id": "b24253a2",
   "metadata": {},
   "outputs": [],
   "source": [
    "benimListem.remove(20)\n",
    "#remove istenilen elemanı listeden silmeye yarar"
   ]
  },
  {
   "cell_type": "code",
   "execution_count": 14,
   "id": "260411fd",
   "metadata": {},
   "outputs": [
    {
     "data": {
      "text/plain": [
       "[100, 30]"
      ]
     },
     "execution_count": 14,
     "metadata": {},
     "output_type": "execute_result"
    }
   ],
   "source": [
    "benimListem"
   ]
  },
  {
   "cell_type": "code",
   "execution_count": 15,
   "id": "32225ece",
   "metadata": {},
   "outputs": [],
   "source": [
    "benimListem.append(30)"
   ]
  },
  {
   "cell_type": "code",
   "execution_count": 16,
   "id": "8f3c6acb",
   "metadata": {},
   "outputs": [
    {
     "data": {
      "text/plain": [
       "[100, 30, 30]"
      ]
     },
     "execution_count": 16,
     "metadata": {},
     "output_type": "execute_result"
    }
   ],
   "source": [
    "benimListem"
   ]
  },
  {
   "cell_type": "code",
   "execution_count": 17,
   "id": "25bc2ec1",
   "metadata": {},
   "outputs": [
    {
     "data": {
      "text/plain": [
       "2"
      ]
     },
     "execution_count": 17,
     "metadata": {},
     "output_type": "execute_result"
    }
   ],
   "source": [
    "benimListem.count(30)\n",
    "#Listede kaç adet 30 olduğunu döndürdü"
   ]
  },
  {
   "cell_type": "code",
   "execution_count": 18,
   "id": "91447da6",
   "metadata": {},
   "outputs": [],
   "source": [
    "liste1 = [100,110,120,130]\n",
    "liste2 = [1,2,3,4]\n",
    "liste3 = liste1 + liste2"
   ]
  },
  {
   "cell_type": "code",
   "execution_count": 19,
   "id": "de8f1790",
   "metadata": {},
   "outputs": [
    {
     "data": {
      "text/plain": [
       "[100, 110, 120, 130, 1, 2, 3, 4]"
      ]
     },
     "execution_count": 19,
     "metadata": {},
     "output_type": "execute_result"
    }
   ],
   "source": [
    "liste3"
   ]
  },
  {
   "cell_type": "code",
   "execution_count": 20,
   "id": "d0bb7a68",
   "metadata": {},
   "outputs": [
    {
     "data": {
      "text/plain": [
       "[100, 110, 120, 130, 1, 2, 3, 4, 100, 110, 120, 130, 1, 2, 3, 4]"
      ]
     },
     "execution_count": 20,
     "metadata": {},
     "output_type": "execute_result"
    }
   ],
   "source": [
    "liste3 * 2"
   ]
  },
  {
   "cell_type": "code",
   "execution_count": null,
   "id": "623c6d75",
   "metadata": {},
   "outputs": [],
   "source": []
  },
  {
   "cell_type": "code",
   "execution_count": 21,
   "id": "d813d333",
   "metadata": {},
   "outputs": [
    {
     "data": {
      "text/plain": [
       "2"
      ]
     },
     "execution_count": 21,
     "metadata": {},
     "output_type": "execute_result"
    }
   ],
   "source": [
    "liste2.index(3)"
   ]
  },
  {
   "cell_type": "code",
   "execution_count": 22,
   "id": "691822dc",
   "metadata": {},
   "outputs": [
    {
     "data": {
      "text/plain": [
       "[1, 2, 3, 4, 3]"
      ]
     },
     "execution_count": 22,
     "metadata": {},
     "output_type": "execute_result"
    }
   ],
   "source": [
    "liste2.append(3)\n",
    "liste2"
   ]
  },
  {
   "cell_type": "code",
   "execution_count": 23,
   "id": "007b1514",
   "metadata": {},
   "outputs": [
    {
     "data": {
      "text/plain": [
       "2"
      ]
     },
     "execution_count": 23,
     "metadata": {},
     "output_type": "execute_result"
    }
   ],
   "source": [
    "liste2.index(3)"
   ]
  },
  {
   "cell_type": "code",
   "execution_count": 24,
   "id": "53531adf",
   "metadata": {},
   "outputs": [],
   "source": [
    "liste2.append(\"sayi\")"
   ]
  },
  {
   "cell_type": "code",
   "execution_count": 25,
   "id": "e101751f",
   "metadata": {},
   "outputs": [
    {
     "data": {
      "text/plain": [
       "[1, 2, 3, 4, 3, 'sayi']"
      ]
     },
     "execution_count": 25,
     "metadata": {},
     "output_type": "execute_result"
    }
   ],
   "source": [
    "liste2"
   ]
  },
  {
   "cell_type": "code",
   "execution_count": 26,
   "id": "dad88012",
   "metadata": {},
   "outputs": [],
   "source": [
    "liste2.reverse()"
   ]
  },
  {
   "cell_type": "code",
   "execution_count": 27,
   "id": "75f30aec",
   "metadata": {},
   "outputs": [
    {
     "data": {
      "text/plain": [
       "['sayi', 3, 4, 3, 2, 1]"
      ]
     },
     "execution_count": 27,
     "metadata": {},
     "output_type": "execute_result"
    }
   ],
   "source": [
    "liste2"
   ]
  },
  {
   "cell_type": "code",
   "execution_count": 28,
   "id": "21cc062f",
   "metadata": {},
   "outputs": [],
   "source": [
    "liste1.append(50)"
   ]
  },
  {
   "cell_type": "code",
   "execution_count": 29,
   "id": "7ce2c6ef",
   "metadata": {},
   "outputs": [
    {
     "data": {
      "text/plain": [
       "[100, 110, 120, 130, 50]"
      ]
     },
     "execution_count": 29,
     "metadata": {},
     "output_type": "execute_result"
    }
   ],
   "source": [
    "liste1"
   ]
  },
  {
   "cell_type": "code",
   "execution_count": 30,
   "id": "4fc19a3c",
   "metadata": {},
   "outputs": [],
   "source": [
    "liste1.sort()\n",
    "#liste1 için sort yapılabilir ancak liste2 hem int hem de str tipinde karışık veri içerdiği için sort yapılamaz"
   ]
  },
  {
   "cell_type": "code",
   "execution_count": 31,
   "id": "ef2544a8",
   "metadata": {},
   "outputs": [
    {
     "data": {
      "text/plain": [
       "[50, 100, 110, 120, 130]"
      ]
     },
     "execution_count": 31,
     "metadata": {},
     "output_type": "execute_result"
    }
   ],
   "source": [
    "liste1"
   ]
  },
  {
   "cell_type": "code",
   "execution_count": 32,
   "id": "69bfa661",
   "metadata": {},
   "outputs": [],
   "source": [
    "liste1.reverse()"
   ]
  },
  {
   "cell_type": "code",
   "execution_count": 33,
   "id": "f4d743f6",
   "metadata": {},
   "outputs": [
    {
     "data": {
      "text/plain": [
       "[130, 120, 110, 100, 50]"
      ]
     },
     "execution_count": 33,
     "metadata": {},
     "output_type": "execute_result"
    }
   ],
   "source": [
    "liste1"
   ]
  },
  {
   "cell_type": "code",
   "execution_count": 34,
   "id": "01369fe3",
   "metadata": {},
   "outputs": [],
   "source": [
    "stringListem = [\"elma\",\"armut\",\"karpuz\",\"Muz\"]"
   ]
  },
  {
   "cell_type": "code",
   "execution_count": 35,
   "id": "04f8b148",
   "metadata": {},
   "outputs": [
    {
     "data": {
      "text/plain": [
       "['elma', 'armut', 'karpuz', 'Muz']"
      ]
     },
     "execution_count": 35,
     "metadata": {},
     "output_type": "execute_result"
    }
   ],
   "source": [
    "stringListem"
   ]
  },
  {
   "cell_type": "code",
   "execution_count": 36,
   "id": "fc2eb96f",
   "metadata": {},
   "outputs": [],
   "source": [
    "stringListem.sort()"
   ]
  },
  {
   "cell_type": "code",
   "execution_count": 41,
   "id": "d1947956",
   "metadata": {},
   "outputs": [
    {
     "data": {
      "text/plain": [
       "['Muz', 'armut', 'elma', 'karpuz']"
      ]
     },
     "execution_count": 41,
     "metadata": {},
     "output_type": "execute_result"
    }
   ],
   "source": [
    "stringListem\n",
    "#Neye göre sıraladı anlamadım!!(Harf sayısı olabilir)"
   ]
  },
  {
   "cell_type": "code",
   "execution_count": 38,
   "id": "508bde8a",
   "metadata": {},
   "outputs": [
    {
     "data": {
      "text/plain": [
       "[10, 'z']"
      ]
     },
     "execution_count": 38,
     "metadata": {},
     "output_type": "execute_result"
    }
   ],
   "source": [
    "nestedList = [1,2,3.5,[10,\"z\"]]\n",
    "nestedList[3]"
   ]
  },
  {
   "cell_type": "code",
   "execution_count": 39,
   "id": "7e7aae43",
   "metadata": {},
   "outputs": [],
   "source": [
    "zDegiskeni = nestedList[3][1]"
   ]
  },
  {
   "cell_type": "code",
   "execution_count": 40,
   "id": "25c382b4",
   "metadata": {},
   "outputs": [
    {
     "data": {
      "text/plain": [
       "'z'"
      ]
     },
     "execution_count": 40,
     "metadata": {},
     "output_type": "execute_result"
    }
   ],
   "source": [
    "zDegiskeni"
   ]
  },
  {
   "cell_type": "code",
   "execution_count": null,
   "id": "019d14c0",
   "metadata": {},
   "outputs": [],
   "source": []
  }
 ],
 "metadata": {
  "kernelspec": {
   "display_name": "Python 3 (ipykernel)",
   "language": "python",
   "name": "python3"
  },
  "language_info": {
   "codemirror_mode": {
    "name": "ipython",
    "version": 3
   },
   "file_extension": ".py",
   "mimetype": "text/x-python",
   "name": "python",
   "nbconvert_exporter": "python",
   "pygments_lexer": "ipython3",
   "version": "3.9.13"
  }
 },
 "nbformat": 4,
 "nbformat_minor": 5
}
