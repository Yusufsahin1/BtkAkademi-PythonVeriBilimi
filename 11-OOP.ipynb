{
 "cells": [
  {
   "cell_type": "code",
   "execution_count": 1,
   "id": "0c49d34c",
   "metadata": {},
   "outputs": [],
   "source": [
    "class SuperKahraman():\n",
    "    \n",
    "    ozelGuc = \"Görünmezlik\"\n",
    "    #initialize edilmek istenmeyen attribute'lar buraya da yazılabilir\n",
    "    \n",
    "    def __init__(self,isimInput,yasInput,meslekInput):\n",
    "        print(\"init çağırıldı\")\n",
    "        self.isim = isimInput\n",
    "        self.yas = yasInput\n",
    "        self.meslek = meslekInput\n",
    "        \n",
    "    def ornekMethod(self):\n",
    "        print(f\"Ben Süper Kahramanım ve Mesleğim: {self.meslek}\")\n",
    "    \n",
    "        \n",
    "#Normal kullanımda isimInput yerine doğrudan isim yazılır. Buradaki yazımın amacı sağdaki ve yukarıdaki isimin birbiriyele aynı olduğunu göstermektir\n",
    "#örnek : self.isim = isim (yukarıda da isim yazması gerekir)"
   ]
  },
  {
   "cell_type": "code",
   "execution_count": 2,
   "id": "57cca0a5",
   "metadata": {},
   "outputs": [
    {
     "name": "stdout",
     "output_type": "stream",
     "text": [
      "init çağırıldı\n"
     ]
    }
   ],
   "source": [
    "superman = SuperKahraman(\"Superman\", 30,\"Gazeteci\")"
   ]
  },
  {
   "cell_type": "code",
   "execution_count": 3,
   "id": "d63c761e",
   "metadata": {},
   "outputs": [
    {
     "data": {
      "text/plain": [
       "'Gazeteci'"
      ]
     },
     "execution_count": 3,
     "metadata": {},
     "output_type": "execute_result"
    }
   ],
   "source": [
    "superman.meslek"
   ]
  },
  {
   "cell_type": "code",
   "execution_count": 4,
   "id": "538aa3c0",
   "metadata": {},
   "outputs": [
    {
     "data": {
      "text/plain": [
       "'Mühendis'"
      ]
     },
     "execution_count": 4,
     "metadata": {},
     "output_type": "execute_result"
    }
   ],
   "source": [
    "superman.meslek = \"Mühendis\"\n",
    "superman.meslek"
   ]
  },
  {
   "cell_type": "code",
   "execution_count": 5,
   "id": "607a6072",
   "metadata": {},
   "outputs": [
    {
     "name": "stdout",
     "output_type": "stream",
     "text": [
      "init çağırıldı\n"
     ]
    }
   ],
   "source": [
    "batman = SuperKahraman(\"Batman\", 35, \"işsiz\")"
   ]
  },
  {
   "cell_type": "code",
   "execution_count": 6,
   "id": "60eaa4e6",
   "metadata": {},
   "outputs": [
    {
     "data": {
      "text/plain": [
       "'Batman'"
      ]
     },
     "execution_count": 6,
     "metadata": {},
     "output_type": "execute_result"
    }
   ],
   "source": [
    "batman.isim"
   ]
  },
  {
   "cell_type": "code",
   "execution_count": 7,
   "id": "155a4a35",
   "metadata": {},
   "outputs": [
    {
     "data": {
      "text/plain": [
       "'Görünmezlik'"
      ]
     },
     "execution_count": 7,
     "metadata": {},
     "output_type": "execute_result"
    }
   ],
   "source": [
    "superman.ozelGuc"
   ]
  },
  {
   "cell_type": "code",
   "execution_count": 8,
   "id": "0707c866",
   "metadata": {},
   "outputs": [
    {
     "data": {
      "text/plain": [
       "'Uçabilme'"
      ]
     },
     "execution_count": 8,
     "metadata": {},
     "output_type": "execute_result"
    }
   ],
   "source": [
    "superman.ozelGuc = \"Uçabilme\"\n",
    "superman.ozelGuc"
   ]
  },
  {
   "cell_type": "code",
   "execution_count": 9,
   "id": "adaa2caf",
   "metadata": {},
   "outputs": [
    {
     "name": "stdout",
     "output_type": "stream",
     "text": [
      "Ben Süper Kahramanım ve Mesleğim: Mühendis\n"
     ]
    }
   ],
   "source": [
    "superman.ornekMethod()"
   ]
  },
  {
   "cell_type": "code",
   "execution_count": 10,
   "id": "77c2dffd",
   "metadata": {},
   "outputs": [],
   "source": [
    "class Kopek():\n",
    "    \n",
    "    def __init__(self,yas=3):\n",
    "        self.yas = yas\n",
    "        "
   ]
  },
  {
   "cell_type": "code",
   "execution_count": 11,
   "id": "b39714ea",
   "metadata": {},
   "outputs": [],
   "source": [
    "kopek1 = Kopek()"
   ]
  },
  {
   "cell_type": "code",
   "execution_count": 12,
   "id": "26bbe9e4",
   "metadata": {},
   "outputs": [
    {
     "data": {
      "text/plain": [
       "3"
      ]
     },
     "execution_count": 12,
     "metadata": {},
     "output_type": "execute_result"
    }
   ],
   "source": [
    "kopek1.yas"
   ]
  },
  {
   "cell_type": "code",
   "execution_count": 13,
   "id": "67424786",
   "metadata": {},
   "outputs": [],
   "source": [
    "kopek2 = Kopek(5)\n",
    "# Buradaki yaş değeri default değere Override olur"
   ]
  },
  {
   "cell_type": "code",
   "execution_count": 14,
   "id": "17ef01a9",
   "metadata": {},
   "outputs": [
    {
     "data": {
      "text/plain": [
       "5"
      ]
     },
     "execution_count": 14,
     "metadata": {},
     "output_type": "execute_result"
    }
   ],
   "source": [
    "kopek2.yas"
   ]
  },
  {
   "cell_type": "markdown",
   "id": "2e9b680f",
   "metadata": {},
   "source": [
    "# inheritance"
   ]
  },
  {
   "cell_type": "code",
   "execution_count": 15,
   "id": "cb61d44d",
   "metadata": {},
   "outputs": [],
   "source": [
    "class Hayvan():\n",
    "    def __init__(self):\n",
    "        print(\"Hayvan sınıfı için init çağırıldı\")\n",
    "        \n",
    "    def method1(self):\n",
    "        print(\"Hayvan sınıfı method1 çağırıldı\")\n",
    "        \n",
    "    def method2(self):\n",
    "        print(\"Hayvan sınıfı method2 çağırıldı\")\n",
    "    "
   ]
  },
  {
   "cell_type": "code",
   "execution_count": 16,
   "id": "53d4fc9e",
   "metadata": {},
   "outputs": [
    {
     "name": "stdout",
     "output_type": "stream",
     "text": [
      "Hayvan sınıfı için init çağırıldı\n"
     ]
    }
   ],
   "source": [
    "hayvan1 = Hayvan()"
   ]
  },
  {
   "cell_type": "code",
   "execution_count": 17,
   "id": "8d92c028",
   "metadata": {},
   "outputs": [
    {
     "name": "stdout",
     "output_type": "stream",
     "text": [
      "Hayvan sınıfı method1 çağırıldı\n"
     ]
    }
   ],
   "source": [
    "hayvan1.method1()"
   ]
  },
  {
   "cell_type": "code",
   "execution_count": 18,
   "id": "754acc66",
   "metadata": {},
   "outputs": [],
   "source": [
    "class Kedi(Hayvan):\n",
    "    def __init__(self):\n",
    "        Hayvan.__init__(self)\n",
    "        print(\"Kedi sınıfı init çağırıldı\")    \n",
    "        \n",
    "    def method2(self):\n",
    "        print(\"Kedi sınıfı method2 çağırıldı\")\n",
    "        \n",
    "    def miyav(self):\n",
    "        print(\"Miyav\")"
   ]
  },
  {
   "cell_type": "code",
   "execution_count": 19,
   "id": "1dfbbe2d",
   "metadata": {},
   "outputs": [
    {
     "name": "stdout",
     "output_type": "stream",
     "text": [
      "Hayvan sınıfı için init çağırıldı\n",
      "Kedi sınıfı init çağırıldı\n"
     ]
    }
   ],
   "source": [
    "benimKedi = Kedi()\n"
   ]
  },
  {
   "cell_type": "code",
   "execution_count": 20,
   "id": "a07aafe3",
   "metadata": {},
   "outputs": [
    {
     "name": "stdout",
     "output_type": "stream",
     "text": [
      "Hayvan sınıfı method1 çağırıldı\n"
     ]
    }
   ],
   "source": [
    "benimKedi.method1()"
   ]
  },
  {
   "cell_type": "code",
   "execution_count": 21,
   "id": "b35268d8",
   "metadata": {},
   "outputs": [
    {
     "name": "stdout",
     "output_type": "stream",
     "text": [
      "Kedi sınıfı method2 çağırıldı\n"
     ]
    }
   ],
   "source": [
    "benimKedi.method2()"
   ]
  },
  {
   "cell_type": "code",
   "execution_count": 22,
   "id": "9a769019",
   "metadata": {},
   "outputs": [
    {
     "name": "stdout",
     "output_type": "stream",
     "text": [
      "Miyav\n"
     ]
    }
   ],
   "source": [
    "benimKedi.miyav()"
   ]
  },
  {
   "cell_type": "markdown",
   "id": "4f786142",
   "metadata": {},
   "source": [
    "# polymorphism"
   ]
  },
  {
   "cell_type": "code",
   "execution_count": 23,
   "id": "207b8311",
   "metadata": {},
   "outputs": [],
   "source": [
    "class Elma():\n",
    "    def __init__(self,isim):\n",
    "        self.isim = isim\n",
    "        \n",
    "    def bilgiVer(self):\n",
    "        return self.isim + \" 60 kaloridir\"\n",
    "    "
   ]
  },
  {
   "cell_type": "code",
   "execution_count": 24,
   "id": "463604cf",
   "metadata": {},
   "outputs": [],
   "source": [
    "class Muz():\n",
    "    def __init__(self,isim):\n",
    "        self.isim = isim\n",
    "        \n",
    "    def bilgiVer(self):\n",
    "        return self.isim + \" 100 kaloridir\"\n",
    "    "
   ]
  },
  {
   "cell_type": "code",
   "execution_count": 25,
   "id": "58e2be48",
   "metadata": {},
   "outputs": [],
   "source": [
    "elma = Elma(\"elma\")"
   ]
  },
  {
   "cell_type": "code",
   "execution_count": 26,
   "id": "a95f226e",
   "metadata": {},
   "outputs": [],
   "source": [
    "muz = Muz(\"muz\")"
   ]
  },
  {
   "cell_type": "code",
   "execution_count": 27,
   "id": "d6cfdef5",
   "metadata": {},
   "outputs": [
    {
     "data": {
      "text/plain": [
       "'elma 60 kaloridir'"
      ]
     },
     "execution_count": 27,
     "metadata": {},
     "output_type": "execute_result"
    }
   ],
   "source": [
    "elma.bilgiVer()"
   ]
  },
  {
   "cell_type": "code",
   "execution_count": 28,
   "id": "6d646a4b",
   "metadata": {},
   "outputs": [
    {
     "data": {
      "text/plain": [
       "'muz 100 kaloridir'"
      ]
     },
     "execution_count": 28,
     "metadata": {},
     "output_type": "execute_result"
    }
   ],
   "source": [
    "muz.bilgiVer()"
   ]
  },
  {
   "cell_type": "code",
   "execution_count": 29,
   "id": "c3ffd57b",
   "metadata": {},
   "outputs": [],
   "source": [
    "meyveListesi = [elma,muz]"
   ]
  },
  {
   "cell_type": "code",
   "execution_count": 30,
   "id": "08fda548",
   "metadata": {},
   "outputs": [
    {
     "name": "stdout",
     "output_type": "stream",
     "text": [
      "elma 60 kaloridir\n",
      "muz 100 kaloridir\n"
     ]
    }
   ],
   "source": [
    "for meyve in meyveListesi:\n",
    "    print(meyve.bilgiVer())"
   ]
  },
  {
   "cell_type": "code",
   "execution_count": 49,
   "id": "859963fc",
   "metadata": {},
   "outputs": [],
   "source": [
    "def hesapla(sayi1,sayi2):\n",
    "    return sayi1 + sayi2"
   ]
  },
  {
   "cell_type": "code",
   "execution_count": 50,
   "id": "cc59cce6",
   "metadata": {},
   "outputs": [],
   "source": [
    "def hesapla(num1):\n",
    "    return num1 + 5"
   ]
  },
  {
   "cell_type": "code",
   "execution_count": 51,
   "id": "479825a2",
   "metadata": {},
   "outputs": [
    {
     "data": {
      "text/plain": [
       "20"
      ]
     },
     "execution_count": 51,
     "metadata": {},
     "output_type": "execute_result"
    }
   ],
   "source": [
    "hesapla(15)\n"
   ]
  },
  {
   "cell_type": "code",
   "execution_count": 34,
   "id": "7f70ff48",
   "metadata": {},
   "outputs": [],
   "source": [
    " #Java'da olsa polymorpihsm sayesinde her iki fonksiyon da farklı parametrelerle çalıştırılabilirdi\n",
    " #Ancak Python'da böyle bir olay yok. 2.Fonksiyon override oluyor"
   ]
  },
  {
   "cell_type": "markdown",
   "id": "046adae9",
   "metadata": {},
   "source": [
    "# try & except & else & finally"
   ]
  },
  {
   "cell_type": "code",
   "execution_count": 53,
   "id": "6f40a0d0",
   "metadata": {},
   "outputs": [
    {
     "name": "stdout",
     "output_type": "stream",
     "text": [
      "Numaranızı Giriniz: *\n",
      "Numara girmediniz. Lütfen Numara giriniz\n",
      "Finally çağırıldı\n",
      "Numaranızı Giriniz: 30\n",
      "Teşekkürler\n",
      "Finally çağırıldı\n"
     ]
    }
   ],
   "source": [
    "while True:\n",
    "    try:\n",
    "        benimInt = int(input(\"Numaranızı Giriniz: \"))\n",
    "    except:\n",
    "        print(\"Numara girmediniz. Lütfen Numara giriniz\")\n",
    "        continue\n",
    "    else:\n",
    "        print(\"Teşekkürler\")\n",
    "        break\n",
    "    finally:\n",
    "        print(\"Finally çağırıldı\")\n",
    "    \n",
    "#finally her durumda, else ise hata olmadığında çağırılır"
   ]
  },
  {
   "cell_type": "code",
   "execution_count": null,
   "id": "1157a259",
   "metadata": {},
   "outputs": [],
   "source": []
  }
 ],
 "metadata": {
  "kernelspec": {
   "display_name": "Python 3 (ipykernel)",
   "language": "python",
   "name": "python3"
  },
  "language_info": {
   "codemirror_mode": {
    "name": "ipython",
    "version": 3
   },
   "file_extension": ".py",
   "mimetype": "text/x-python",
   "name": "python",
   "nbconvert_exporter": "python",
   "pygments_lexer": "ipython3",
   "version": "3.9.13"
  }
 },
 "nbformat": 4,
 "nbformat_minor": 5
}
