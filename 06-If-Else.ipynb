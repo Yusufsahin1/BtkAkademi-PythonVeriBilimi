{
 "cells": [
  {
   "cell_type": "code",
   "execution_count": 4,
   "id": "ab0804d6",
   "metadata": {},
   "outputs": [
    {
     "name": "stdout",
     "output_type": "stream",
     "text": [
      "Merhaba\n"
     ]
    }
   ],
   "source": [
    "#Python'da if kod blokları süslü parantez içine alınmaz bunun yerine boşluklar dikkate alınır\n",
    "#şart yazıldıktan sonra : konulur\n",
    "\n",
    "\n",
    "if 3 < 4 :\n",
    "    print(\"Merhaba\")"
   ]
  },
  {
   "cell_type": "code",
   "execution_count": 16,
   "id": "1fc69193",
   "metadata": {},
   "outputs": [
    {
     "name": "stdout",
     "output_type": "stream",
     "text": [
      "Burası if şartından bağımsız çalışır\n"
     ]
    }
   ],
   "source": [
    "a=2\n",
    "b=6\n",
    "\n",
    "if a > b :\n",
    "    print(\"a b'den büyüktür\")\n",
    "    print(\"Burası if şartına bağlı olarak çalışır\")\n",
    "print(\"Burası if şartından bağımsız çalışır\")"
   ]
  },
  {
   "cell_type": "code",
   "execution_count": 1,
   "id": "9058d5de",
   "metadata": {},
   "outputs": [
    {
     "name": "stdout",
     "output_type": "stream",
     "text": [
      "Sayi2 daha büyüktür\n"
     ]
    }
   ],
   "source": [
    "#else if komutunun python'daki karşılığı elif komutudur\n",
    "sayi1=15\n",
    "sayi2=20\n",
    "\n",
    "if sayi1 > sayi2 :\n",
    "    print(\"Sayi1 daha büyüktür\")\n",
    "elif sayi2 > sayi1 :\n",
    "    print(\"Sayi2 daha büyüktür\")\n",
    "else :\n",
    "    print(\"İki sayı birbirine eşittir\")\n",
    "    \n"
   ]
  },
  {
   "cell_type": "code",
   "execution_count": 23,
   "id": "73d84af9",
   "metadata": {},
   "outputs": [
    {
     "name": "stdout",
     "output_type": "stream",
     "text": [
      "1\n"
     ]
    }
   ],
   "source": [
    "#And ve Or operatörleri herhangi bir sembol kullanmadan doğrudan yazılır (and,or)\n",
    "#C dilinde And için && , Or için || kullanılıyordu\n",
    "\n",
    "x=6\n",
    "y=10\n",
    "z=25\n",
    "\n",
    "if x<y and z>y :\n",
    "    print(\"1\")"
   ]
  },
  {
   "cell_type": "code",
   "execution_count": 44,
   "id": "d2bc2a70",
   "metadata": {},
   "outputs": [
    {
     "name": "stdout",
     "output_type": "stream",
     "text": [
      "Karakter Yaşıyor\n"
     ]
    }
   ],
   "source": [
    "karakterCanli = True\n",
    "\n",
    "if karakterCanli :\n",
    "    print(\"Karakter Yaşıyor\")\n",
    "else :\n",
    "    print(\"Karakter Yaşamıyor\")\n",
    "\n",
    "# Burada karakterCanli==True yazmak yerine booleann olduğu için böyle bir kullanım da mümkün"
   ]
  },
  {
   "cell_type": "code",
   "execution_count": 46,
   "id": "ffcbe354",
   "metadata": {},
   "outputs": [],
   "source": [
    "if not karakterCanli : \n",
    "    print(\"Karakter Canlı değil\")"
   ]
  },
  {
   "cell_type": "code",
   "execution_count": 50,
   "id": "ae368c02",
   "metadata": {},
   "outputs": [
    {
     "name": "stdout",
     "output_type": "stream",
     "text": [
      "Var\n"
     ]
    }
   ],
   "source": [
    "benimString = \"Yusuf Şahin\"\n",
    "\n",
    "if \"a\" in benimString : \n",
    "    print(\"Var\")\n",
    "    "
   ]
  },
  {
   "cell_type": "code",
   "execution_count": 59,
   "id": "ed4b414f",
   "metadata": {},
   "outputs": [
    {
     "name": "stdout",
     "output_type": "stream",
     "text": [
      "Var\n",
      "Yok\n"
     ]
    }
   ],
   "source": [
    "benimSozluk = {\"Muz\" : 100, \"Elma\" :50, \"Portakal\" : 70}\n",
    "\n",
    "if \"Muz\" in benimSozluk.keys() :\n",
    "    print(\"Var\")\n",
    "\n",
    "if 90 in benimSozluk.values() :\n",
    "    print(\"Var\")\n",
    "else :\n",
    "    print(\"Yok\")\n"
   ]
  },
  {
   "cell_type": "code",
   "execution_count": null,
   "id": "14413faa",
   "metadata": {},
   "outputs": [],
   "source": []
  }
 ],
 "metadata": {
  "kernelspec": {
   "display_name": "Python 3 (ipykernel)",
   "language": "python",
   "name": "python3"
  },
  "language_info": {
   "codemirror_mode": {
    "name": "ipython",
    "version": 3
   },
   "file_extension": ".py",
   "mimetype": "text/x-python",
   "name": "python",
   "nbconvert_exporter": "python",
   "pygments_lexer": "ipython3",
   "version": "3.9.13"
  }
 },
 "nbformat": 4,
 "nbformat_minor": 5
}
