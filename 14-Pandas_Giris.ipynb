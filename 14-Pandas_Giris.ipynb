{
 "cells": [
  {
   "cell_type": "code",
   "execution_count": 1,
   "id": "7469cad1",
   "metadata": {},
   "outputs": [],
   "source": [
    "import numpy as np\n",
    "import pandas as pd"
   ]
  },
  {
   "cell_type": "markdown",
   "id": "3d849816",
   "metadata": {},
   "source": [
    "# Series(Seriler)"
   ]
  },
  {
   "cell_type": "code",
   "execution_count": 3,
   "id": "57eb1e70",
   "metadata": {},
   "outputs": [],
   "source": [
    "benimSozlugum = {\"Yusuf\" : 23, \"Muhammet\" : 24, \"Ali\" : 30}"
   ]
  },
  {
   "cell_type": "code",
   "execution_count": 6,
   "id": "a4f9df30",
   "metadata": {},
   "outputs": [
    {
     "data": {
      "text/plain": [
       "Yusuf       23\n",
       "Muhammet    24\n",
       "Ali         30\n",
       "dtype: int64"
      ]
     },
     "execution_count": 6,
     "metadata": {},
     "output_type": "execute_result"
    }
   ],
   "source": [
    "pd.Series(benimSozlugum)"
   ]
  },
  {
   "cell_type": "code",
   "execution_count": 8,
   "id": "df67fc98",
   "metadata": {},
   "outputs": [],
   "source": [
    "isimListesi = [\"Yusuf\", \"Muhammet\", \"Ali\"]\n",
    "yasListesi = [23,24,30]"
   ]
  },
  {
   "cell_type": "code",
   "execution_count": 9,
   "id": "b0aba2d9",
   "metadata": {},
   "outputs": [
    {
     "data": {
      "text/plain": [
       "0    23\n",
       "1    24\n",
       "2    30\n",
       "dtype: int64"
      ]
     },
     "execution_count": 9,
     "metadata": {},
     "output_type": "execute_result"
    }
   ],
   "source": [
    "pd.Series(yasListesi)"
   ]
  },
  {
   "cell_type": "code",
   "execution_count": 11,
   "id": "b8558fb6",
   "metadata": {},
   "outputs": [
    {
     "data": {
      "text/plain": [
       "Yusuf       23\n",
       "Muhammet    24\n",
       "Ali         30\n",
       "dtype: int64"
      ]
     },
     "execution_count": 11,
     "metadata": {},
     "output_type": "execute_result"
    }
   ],
   "source": [
    "pd.Series(yasListesi,isimListesi)\n",
    "#pd.Series(data,index)"
   ]
  },
  {
   "cell_type": "code",
   "execution_count": 12,
   "id": "c233bde9",
   "metadata": {},
   "outputs": [],
   "source": [
    "numpyDizisi = np.array([23,24,30])"
   ]
  },
  {
   "cell_type": "code",
   "execution_count": 13,
   "id": "ad116155",
   "metadata": {},
   "outputs": [
    {
     "data": {
      "text/plain": [
       "array([23, 24, 30])"
      ]
     },
     "execution_count": 13,
     "metadata": {},
     "output_type": "execute_result"
    }
   ],
   "source": [
    "numpyDizisi"
   ]
  },
  {
   "cell_type": "code",
   "execution_count": 14,
   "id": "dab65b06",
   "metadata": {},
   "outputs": [
    {
     "data": {
      "text/plain": [
       "0    23\n",
       "1    24\n",
       "2    30\n",
       "dtype: int32"
      ]
     },
     "execution_count": 14,
     "metadata": {},
     "output_type": "execute_result"
    }
   ],
   "source": [
    "pd.Series(numpyDizisi)"
   ]
  },
  {
   "cell_type": "code",
   "execution_count": 15,
   "id": "697ddbcc",
   "metadata": {},
   "outputs": [
    {
     "data": {
      "text/plain": [
       "Yusuf       23\n",
       "Muhammet    24\n",
       "Ali         30\n",
       "dtype: int32"
      ]
     },
     "execution_count": 15,
     "metadata": {},
     "output_type": "execute_result"
    }
   ],
   "source": [
    "pd.Series(numpyDizisi, isimListesi)"
   ]
  },
  {
   "cell_type": "code",
   "execution_count": 17,
   "id": "98b1402c",
   "metadata": {},
   "outputs": [
    {
     "data": {
      "text/plain": [
       "1     Atil\n",
       "2    Yusuf\n",
       "3    Osman\n",
       "dtype: object"
      ]
     },
     "execution_count": 17,
     "metadata": {},
     "output_type": "execute_result"
    }
   ],
   "source": [
    "pd.Series([\"Atil\", \"Yusuf\", \"Osman\"] , [1,2,3])"
   ]
  },
  {
   "cell_type": "code",
   "execution_count": 18,
   "id": "1cbaa633",
   "metadata": {},
   "outputs": [
    {
     "data": {
      "text/plain": [
       "Atil     10\n",
       "Yusuf     5\n",
       "Osman     1\n",
       "dtype: int64"
      ]
     },
     "execution_count": 18,
     "metadata": {},
     "output_type": "execute_result"
    }
   ],
   "source": [
    "yarismaSonucu1 = pd.Series([10,5,1], [\"Atil\", \"Yusuf\", \"Osman\"])\n",
    "yarismaSonucu1"
   ]
  },
  {
   "cell_type": "code",
   "execution_count": 19,
   "id": "1d4114d7",
   "metadata": {},
   "outputs": [
    {
     "data": {
      "text/plain": [
       "Atil     20\n",
       "Yusuf    10\n",
       "Osman     8\n",
       "dtype: int64"
      ]
     },
     "execution_count": 19,
     "metadata": {},
     "output_type": "execute_result"
    }
   ],
   "source": [
    "yarismaSonucu2 = pd.Series([20,10,8], [\"Atil\", \"Yusuf\", \"Osman\"])\n",
    "yarismaSonucu2"
   ]
  },
  {
   "cell_type": "code",
   "execution_count": 20,
   "id": "007c0f40",
   "metadata": {},
   "outputs": [
    {
     "data": {
      "text/plain": [
       "20"
      ]
     },
     "execution_count": 20,
     "metadata": {},
     "output_type": "execute_result"
    }
   ],
   "source": [
    "yarismaSonucu2[\"Atil\"]"
   ]
  },
  {
   "cell_type": "code",
   "execution_count": 21,
   "id": "e5ccca00",
   "metadata": {},
   "outputs": [],
   "source": [
    "sonSonuc = yarismaSonucu1 + yarismaSonucu2"
   ]
  },
  {
   "cell_type": "code",
   "execution_count": 22,
   "id": "6a2a3ec5",
   "metadata": {},
   "outputs": [
    {
     "data": {
      "text/plain": [
       "Atil     30\n",
       "Yusuf    15\n",
       "Osman     9\n",
       "dtype: int64"
      ]
     },
     "execution_count": 22,
     "metadata": {},
     "output_type": "execute_result"
    }
   ],
   "source": [
    "sonSonuc"
   ]
  },
  {
   "cell_type": "code",
   "execution_count": 23,
   "id": "e3da75d4",
   "metadata": {},
   "outputs": [],
   "source": [
    "farkliSeries = pd.Series([20,30,40,50], [\"a\", \"b\", \"c\", \"d\"])"
   ]
  },
  {
   "cell_type": "code",
   "execution_count": 24,
   "id": "ad321f67",
   "metadata": {},
   "outputs": [],
   "source": [
    "farkliSeries2 = pd.Series([15,10,5,7], [\"a\", \"c\", \"e\", \"f\"])"
   ]
  },
  {
   "cell_type": "code",
   "execution_count": 25,
   "id": "b846ff9b",
   "metadata": {},
   "outputs": [
    {
     "data": {
      "text/plain": [
       "a    20\n",
       "b    30\n",
       "c    40\n",
       "d    50\n",
       "dtype: int64"
      ]
     },
     "execution_count": 25,
     "metadata": {},
     "output_type": "execute_result"
    }
   ],
   "source": [
    "farkliSeries"
   ]
  },
  {
   "cell_type": "code",
   "execution_count": 26,
   "id": "ab8c3b3f",
   "metadata": {},
   "outputs": [
    {
     "data": {
      "text/plain": [
       "a    15\n",
       "c    10\n",
       "e     5\n",
       "f     7\n",
       "dtype: int64"
      ]
     },
     "execution_count": 26,
     "metadata": {},
     "output_type": "execute_result"
    }
   ],
   "source": [
    "farkliSeries2"
   ]
  },
  {
   "cell_type": "code",
   "execution_count": 28,
   "id": "09a2ef92",
   "metadata": {},
   "outputs": [
    {
     "data": {
      "text/plain": [
       "a    35.0\n",
       "b     NaN\n",
       "c    50.0\n",
       "d     NaN\n",
       "e     NaN\n",
       "f     NaN\n",
       "dtype: float64"
      ]
     },
     "execution_count": 28,
     "metadata": {},
     "output_type": "execute_result"
    }
   ],
   "source": [
    "farkliSeries + farkliSeries2"
   ]
  },
  {
   "cell_type": "code",
   "execution_count": null,
   "id": "3c9c5594",
   "metadata": {},
   "outputs": [],
   "source": []
  }
 ],
 "metadata": {
  "kernelspec": {
   "display_name": "Python 3 (ipykernel)",
   "language": "python",
   "name": "python3"
  },
  "language_info": {
   "codemirror_mode": {
    "name": "ipython",
    "version": 3
   },
   "file_extension": ".py",
   "mimetype": "text/x-python",
   "name": "python",
   "nbconvert_exporter": "python",
   "pygments_lexer": "ipython3",
   "version": "3.9.13"
  }
 },
 "nbformat": 4,
 "nbformat_minor": 5
}
