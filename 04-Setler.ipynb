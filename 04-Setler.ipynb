{
 "cells": [
  {
   "cell_type": "code",
   "execution_count": 1,
   "id": "b0daf60a",
   "metadata": {},
   "outputs": [],
   "source": [
    "#Listelere benzer ancak Listelerden farklı olarak bir elemandan sadece 1 kez bulunabilir\n",
    "#Aynı Eleman iki kez set içinde bulunsa bile bir kez sayılır"
   ]
  },
  {
   "cell_type": "code",
   "execution_count": 2,
   "id": "6975b203",
   "metadata": {},
   "outputs": [
    {
     "data": {
      "text/plain": [
       "[1, 2, 3, 1, 2, 3]"
      ]
     },
     "execution_count": 2,
     "metadata": {},
     "output_type": "execute_result"
    }
   ],
   "source": [
    "benimListem = [1,2,3,1,2,3]\n",
    "benimListem"
   ]
  },
  {
   "cell_type": "code",
   "execution_count": 3,
   "id": "27c0fbce",
   "metadata": {},
   "outputs": [],
   "source": [
    "benimListeSetim = set(benimListem)"
   ]
  },
  {
   "cell_type": "code",
   "execution_count": 4,
   "id": "04d15804",
   "metadata": {},
   "outputs": [
    {
     "data": {
      "text/plain": [
       "list"
      ]
     },
     "execution_count": 4,
     "metadata": {},
     "output_type": "execute_result"
    }
   ],
   "source": [
    "type(benimListem)"
   ]
  },
  {
   "cell_type": "code",
   "execution_count": 5,
   "id": "27a685d0",
   "metadata": {},
   "outputs": [
    {
     "data": {
      "text/plain": [
       "set"
      ]
     },
     "execution_count": 5,
     "metadata": {},
     "output_type": "execute_result"
    }
   ],
   "source": [
    "type(benimListeSetim)"
   ]
  },
  {
   "cell_type": "code",
   "execution_count": 7,
   "id": "fe4293cb",
   "metadata": {},
   "outputs": [
    {
     "data": {
      "text/plain": [
       "{1, 2, 3}"
      ]
     },
     "execution_count": 7,
     "metadata": {},
     "output_type": "execute_result"
    }
   ],
   "source": [
    "benimListeSetim\n",
    "#Liste sete dönüştüğü için tekrarlı elemanlar sadece 1 kez yazıldı"
   ]
  },
  {
   "cell_type": "code",
   "execution_count": 9,
   "id": "ef133368",
   "metadata": {},
   "outputs": [],
   "source": [
    "benimSet = {\"a\",\"b\",\"c\"}\n",
    "#Doğrudan Set oluşturma"
   ]
  },
  {
   "cell_type": "code",
   "execution_count": 10,
   "id": "98fde440",
   "metadata": {},
   "outputs": [
    {
     "data": {
      "text/plain": [
       "{'a', 'b', 'c'}"
      ]
     },
     "execution_count": 10,
     "metadata": {},
     "output_type": "execute_result"
    }
   ],
   "source": [
    "benimSet"
   ]
  },
  {
   "cell_type": "code",
   "execution_count": 11,
   "id": "86efe7c7",
   "metadata": {},
   "outputs": [
    {
     "data": {
      "text/plain": [
       "dict"
      ]
     },
     "execution_count": 11,
     "metadata": {},
     "output_type": "execute_result"
    }
   ],
   "source": [
    "bosSet = {}\n",
    "type(bosSet)\n",
    "#Derleyici bunu set değil dict olarak algıladı çünkü syntax yapıları benzer. Bu sorun aşağıdaki gibi ortadan kaldırılabilir"
   ]
  },
  {
   "cell_type": "code",
   "execution_count": 12,
   "id": "72f83bab",
   "metadata": {},
   "outputs": [],
   "source": [
    "benimBosSetim = set()\n",
    "#Boş set tanımlarken bu tanımlama yukarıdakinden daha iyidir çünkü dict ile karışmaz"
   ]
  },
  {
   "cell_type": "code",
   "execution_count": 13,
   "id": "0250daaf",
   "metadata": {},
   "outputs": [
    {
     "data": {
      "text/plain": [
       "set()"
      ]
     },
     "execution_count": 13,
     "metadata": {},
     "output_type": "execute_result"
    }
   ],
   "source": [
    "benimBosSetim"
   ]
  },
  {
   "cell_type": "code",
   "execution_count": 14,
   "id": "18b61b42",
   "metadata": {},
   "outputs": [
    {
     "data": {
      "text/plain": [
       "set"
      ]
     },
     "execution_count": 14,
     "metadata": {},
     "output_type": "execute_result"
    }
   ],
   "source": [
    "type(benimBosSetim)"
   ]
  },
  {
   "cell_type": "code",
   "execution_count": 15,
   "id": "0286d92c",
   "metadata": {},
   "outputs": [],
   "source": [
    "#Yukarıdaki tanımlama diğer koleksiyon türlerinde de kullanılabilir\n",
    "#bosListe = [] yerine aşağıdaki gibi\n",
    "bosListe = list()"
   ]
  },
  {
   "cell_type": "code",
   "execution_count": 16,
   "id": "64235ac9",
   "metadata": {},
   "outputs": [
    {
     "data": {
      "text/plain": [
       "[]"
      ]
     },
     "execution_count": 16,
     "metadata": {},
     "output_type": "execute_result"
    }
   ],
   "source": [
    "bosListe"
   ]
  },
  {
   "cell_type": "code",
   "execution_count": null,
   "id": "ba71844c",
   "metadata": {},
   "outputs": [],
   "source": []
  }
 ],
 "metadata": {
  "kernelspec": {
   "display_name": "Python 3 (ipykernel)",
   "language": "python",
   "name": "python3"
  },
  "language_info": {
   "codemirror_mode": {
    "name": "ipython",
    "version": 3
   },
   "file_extension": ".py",
   "mimetype": "text/x-python",
   "name": "python",
   "nbconvert_exporter": "python",
   "pygments_lexer": "ipython3",
   "version": "3.9.13"
  }
 },
 "nbformat": 4,
 "nbformat_minor": 5
}
