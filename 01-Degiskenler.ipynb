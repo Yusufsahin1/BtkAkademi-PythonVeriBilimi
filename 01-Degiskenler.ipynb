{
 "cells": [
  {
   "cell_type": "code",
   "execution_count": 11,
   "id": "e61f5679",
   "metadata": {},
   "outputs": [
    {
     "data": {
      "text/plain": [
       "10"
      ]
     },
     "execution_count": 11,
     "metadata": {},
     "output_type": "execute_result"
    }
   ],
   "source": [
    "10"
   ]
  },
  {
   "cell_type": "code",
   "execution_count": 12,
   "id": "56a7cbcf",
   "metadata": {},
   "outputs": [
    {
     "data": {
      "text/plain": [
       "10"
      ]
     },
     "execution_count": 12,
     "metadata": {},
     "output_type": "execute_result"
    }
   ],
   "source": [
    "a=10\n",
    "a"
   ]
  },
  {
   "cell_type": "code",
   "execution_count": 13,
   "id": "59e7593b",
   "metadata": {},
   "outputs": [
    {
     "name": "stdout",
     "output_type": "stream",
     "text": [
      "15\n"
     ]
    }
   ],
   "source": [
    "a=15\n",
    "print(a)"
   ]
  },
  {
   "cell_type": "code",
   "execution_count": 14,
   "id": "00c27537",
   "metadata": {},
   "outputs": [
    {
     "data": {
      "text/plain": [
       "'Hello World'"
      ]
     },
     "execution_count": 14,
     "metadata": {},
     "output_type": "execute_result"
    }
   ],
   "source": [
    "\"Hello World\""
   ]
  },
  {
   "cell_type": "code",
   "execution_count": 15,
   "id": "f613c1c4",
   "metadata": {},
   "outputs": [
    {
     "name": "stdout",
     "output_type": "stream",
     "text": [
      "Hello World\n"
     ]
    }
   ],
   "source": [
    "print(\"Hello World\")"
   ]
  },
  {
   "cell_type": "code",
   "execution_count": 16,
   "id": "657cdd7e",
   "metadata": {},
   "outputs": [
    {
     "name": "stdout",
     "output_type": "stream",
     "text": [
      "Yaşınızı Giriniz:22\n"
     ]
    },
    {
     "data": {
      "text/plain": [
       "'22'"
      ]
     },
     "execution_count": 16,
     "metadata": {},
     "output_type": "execute_result"
    }
   ],
   "source": [
    "yas = input(\"Yaşınızı Giriniz:\")\n",
    "yas"
   ]
  },
  {
   "cell_type": "code",
   "execution_count": 17,
   "id": "4cacdd46",
   "metadata": {},
   "outputs": [
    {
     "name": "stdout",
     "output_type": "stream",
     "text": [
      "Yaşınızı Giriniz:25\n",
      "25\n"
     ]
    }
   ],
   "source": [
    "yas = input(\"Yaşınızı Giriniz:\")\n",
    "print(yas)"
   ]
  },
  {
   "cell_type": "code",
   "execution_count": 18,
   "id": "f6734fc2",
   "metadata": {},
   "outputs": [
    {
     "data": {
      "text/plain": [
       "str"
      ]
     },
     "execution_count": 18,
     "metadata": {},
     "output_type": "execute_result"
    }
   ],
   "source": [
    "type(yas)"
   ]
  },
  {
   "cell_type": "code",
   "execution_count": 19,
   "id": "2a153928",
   "metadata": {},
   "outputs": [],
   "source": [
    "IntYas = int(yas)\n"
   ]
  },
  {
   "cell_type": "code",
   "execution_count": 20,
   "id": "d9f0c823",
   "metadata": {},
   "outputs": [
    {
     "data": {
      "text/plain": [
       "25"
      ]
     },
     "execution_count": 20,
     "metadata": {},
     "output_type": "execute_result"
    }
   ],
   "source": [
    "IntYas"
   ]
  },
  {
   "cell_type": "code",
   "execution_count": 21,
   "id": "c5e97c67",
   "metadata": {},
   "outputs": [
    {
     "data": {
      "text/plain": [
       "50"
      ]
     },
     "execution_count": 21,
     "metadata": {},
     "output_type": "execute_result"
    }
   ],
   "source": [
    "IntYas*2"
   ]
  },
  {
   "cell_type": "code",
   "execution_count": 22,
   "id": "71f0a0db",
   "metadata": {},
   "outputs": [
    {
     "data": {
      "text/plain": [
       "5"
      ]
     },
     "execution_count": 22,
     "metadata": {},
     "output_type": "execute_result"
    }
   ],
   "source": [
    "k=\"Şahin\"\n",
    "len(k)"
   ]
  },
  {
   "cell_type": "code",
   "execution_count": 23,
   "id": "b987dfc3",
   "metadata": {},
   "outputs": [
    {
     "data": {
      "text/plain": [
       "'ŞahinŞahin'"
      ]
     },
     "execution_count": 23,
     "metadata": {},
     "output_type": "execute_result"
    }
   ],
   "source": [
    "k*2\n"
   ]
  },
  {
   "cell_type": "code",
   "execution_count": 26,
   "id": "1358ec74",
   "metadata": {},
   "outputs": [
    {
     "data": {
      "text/plain": [
       "'Yusuf Şahin'"
      ]
     },
     "execution_count": 26,
     "metadata": {},
     "output_type": "execute_result"
    }
   ],
   "source": [
    "isim=\"Yusuf Şahin\"\n",
    "isim"
   ]
  },
  {
   "cell_type": "markdown",
   "id": "f91f17ad",
   "metadata": {},
   "source": [
    "# Index\n"
   ]
  },
  {
   "cell_type": "code",
   "execution_count": 27,
   "id": "ae3e5cbc",
   "metadata": {},
   "outputs": [
    {
     "data": {
      "text/plain": [
       "'Y'"
      ]
     },
     "execution_count": 27,
     "metadata": {},
     "output_type": "execute_result"
    }
   ],
   "source": [
    "isim[0]"
   ]
  },
  {
   "cell_type": "code",
   "execution_count": 28,
   "id": "03d7b6d2",
   "metadata": {},
   "outputs": [
    {
     "data": {
      "text/plain": [
       "'f'"
      ]
     },
     "execution_count": 28,
     "metadata": {},
     "output_type": "execute_result"
    }
   ],
   "source": [
    "isim[4]"
   ]
  },
  {
   "cell_type": "code",
   "execution_count": 29,
   "id": "3898478a",
   "metadata": {},
   "outputs": [
    {
     "data": {
      "text/plain": [
       "' '"
      ]
     },
     "execution_count": 29,
     "metadata": {},
     "output_type": "execute_result"
    }
   ],
   "source": [
    "isim[5]"
   ]
  },
  {
   "cell_type": "code",
   "execution_count": 30,
   "id": "38b3069f",
   "metadata": {},
   "outputs": [
    {
     "data": {
      "text/plain": [
       "'n'"
      ]
     },
     "execution_count": 30,
     "metadata": {},
     "output_type": "execute_result"
    }
   ],
   "source": [
    "isim[10]"
   ]
  },
  {
   "cell_type": "code",
   "execution_count": 32,
   "id": "16878762",
   "metadata": {},
   "outputs": [
    {
     "data": {
      "text/plain": [
       "'n'"
      ]
     },
     "execution_count": 32,
     "metadata": {},
     "output_type": "execute_result"
    }
   ],
   "source": [
    "isim[-1]\n",
    "##-1 son karakteri alır"
   ]
  },
  {
   "cell_type": "code",
   "execution_count": 33,
   "id": "5514aafc",
   "metadata": {},
   "outputs": [
    {
     "data": {
      "text/plain": [
       "'i'"
      ]
     },
     "execution_count": 33,
     "metadata": {},
     "output_type": "execute_result"
    }
   ],
   "source": [
    "isim[-2]"
   ]
  },
  {
   "cell_type": "code",
   "execution_count": 36,
   "id": "23eeb907",
   "metadata": {},
   "outputs": [
    {
     "data": {
      "text/plain": [
       "'Yn'"
      ]
     },
     "execution_count": 36,
     "metadata": {},
     "output_type": "execute_result"
    }
   ],
   "source": [
    "isim[0] + isim[-1]"
   ]
  },
  {
   "cell_type": "markdown",
   "id": "3d31ee2b",
   "metadata": {},
   "source": [
    "# Slicing\n"
   ]
  },
  {
   "cell_type": "code",
   "execution_count": 37,
   "id": "57bdb875",
   "metadata": {},
   "outputs": [],
   "source": [
    "harfString=\"abcdefgh\""
   ]
  },
  {
   "cell_type": "code",
   "execution_count": 38,
   "id": "64093103",
   "metadata": {},
   "outputs": [
    {
     "data": {
      "text/plain": [
       "'defgh'"
      ]
     },
     "execution_count": 38,
     "metadata": {},
     "output_type": "execute_result"
    }
   ],
   "source": [
    "harfString[3:]\n",
    "##ilk 3 indexi kes(3.indexden itibaren yaz)"
   ]
  },
  {
   "cell_type": "code",
   "execution_count": 39,
   "id": "440c05d6",
   "metadata": {},
   "outputs": [
    {
     "data": {
      "text/plain": [
       "'abc'"
      ]
     },
     "execution_count": 39,
     "metadata": {},
     "output_type": "execute_result"
    }
   ],
   "source": [
    "harfString[:3]\n",
    "##ilk 3 indexi yaz, sonrasını kes(3.indexten sonrasını kes)"
   ]
  },
  {
   "cell_type": "code",
   "execution_count": 40,
   "id": "2299ade4",
   "metadata": {},
   "outputs": [
    {
     "data": {
      "text/plain": [
       "'Ahmetin Yaşı 35'"
      ]
     },
     "execution_count": 40,
     "metadata": {},
     "output_type": "execute_result"
    }
   ],
   "source": [
    "gelenVeri=\"Ahmetin Yaşı 35\"\n",
    "gelenVeri"
   ]
  },
  {
   "cell_type": "code",
   "execution_count": 43,
   "id": "bcfb5efc",
   "metadata": {},
   "outputs": [
    {
     "data": {
      "text/plain": [
       "'35'"
      ]
     },
     "execution_count": 43,
     "metadata": {},
     "output_type": "execute_result"
    }
   ],
   "source": [
    "gelenVeri[-2:]"
   ]
  },
  {
   "cell_type": "code",
   "execution_count": 44,
   "id": "90aed14c",
   "metadata": {},
   "outputs": [
    {
     "data": {
      "text/plain": [
       "'me'"
      ]
     },
     "execution_count": 44,
     "metadata": {},
     "output_type": "execute_result"
    }
   ],
   "source": [
    "gelenVeri[2:4]"
   ]
  },
  {
   "cell_type": "code",
   "execution_count": 47,
   "id": "eabb1043",
   "metadata": {},
   "outputs": [
    {
     "data": {
      "text/plain": [
       "'147'"
      ]
     },
     "execution_count": 47,
     "metadata": {},
     "output_type": "execute_result"
    }
   ],
   "source": [
    "##Step Size\n",
    "sayi = \"123456789\"\n",
    "sayi[::3]"
   ]
  },
  {
   "cell_type": "code",
   "execution_count": 56,
   "id": "a19561b0",
   "metadata": {},
   "outputs": [
    {
     "data": {
      "text/plain": [
       "'246'"
      ]
     },
     "execution_count": 56,
     "metadata": {},
     "output_type": "execute_result"
    }
   ],
   "source": [
    "sayi[1:7:2]"
   ]
  },
  {
   "cell_type": "code",
   "execution_count": 58,
   "id": "1a0466b5",
   "metadata": {},
   "outputs": [
    {
     "data": {
      "text/plain": [
       "'fusuy'"
      ]
     },
     "execution_count": 58,
     "metadata": {},
     "output_type": "execute_result"
    }
   ],
   "source": [
    "ad=\"yusuf\"\n",
    "ad[::-1]"
   ]
  },
  {
   "cell_type": "code",
   "execution_count": null,
   "id": "36de1761",
   "metadata": {},
   "outputs": [],
   "source": []
  }
 ],
 "metadata": {
  "kernelspec": {
   "display_name": "Python 3 (ipykernel)",
   "language": "python",
   "name": "python3"
  },
  "language_info": {
   "codemirror_mode": {
    "name": "ipython",
    "version": 3
   },
   "file_extension": ".py",
   "mimetype": "text/x-python",
   "name": "python",
   "nbconvert_exporter": "python",
   "pygments_lexer": "ipython3",
   "version": "3.9.13"
  }
 },
 "nbformat": 4,
 "nbformat_minor": 5
}
