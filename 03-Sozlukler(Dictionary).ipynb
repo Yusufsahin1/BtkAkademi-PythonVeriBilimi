{
 "cells": [
  {
   "cell_type": "code",
   "execution_count": 1,
   "id": "e65e5969",
   "metadata": {},
   "outputs": [],
   "source": [
    "#Key Value Pairing (Anahtar Kelime - Değer Eşleşmesi)\n",
    "#Sozluk = {\"Anahtar Kelime\" : \"Deger\"}"
   ]
  },
  {
   "cell_type": "code",
   "execution_count": 3,
   "id": "f4e75008",
   "metadata": {},
   "outputs": [
    {
     "data": {
      "text/plain": [
       "dict"
      ]
     },
     "execution_count": 3,
     "metadata": {},
     "output_type": "execute_result"
    }
   ],
   "source": [
    "benimYemekKaloriSozlugum = {\"Elma\" : 50, \"Muz\" : 100, \"Portakal\" : 80}\n",
    "type(benimYemekKaloriSozlugum)"
   ]
  },
  {
   "cell_type": "code",
   "execution_count": 4,
   "id": "e9197ff0",
   "metadata": {},
   "outputs": [
    {
     "data": {
      "text/plain": [
       "{'Elma': 50, 'Muz': 100, 'Portakal': 80}"
      ]
     },
     "execution_count": 4,
     "metadata": {},
     "output_type": "execute_result"
    }
   ],
   "source": [
    "benimYemekKaloriSozlugum"
   ]
  },
  {
   "cell_type": "code",
   "execution_count": 5,
   "id": "709a4c03",
   "metadata": {},
   "outputs": [
    {
     "data": {
      "text/plain": [
       "100"
      ]
     },
     "execution_count": 5,
     "metadata": {},
     "output_type": "execute_result"
    }
   ],
   "source": [
    "benimYemekKaloriSozlugum[\"Muz\"]"
   ]
  },
  {
   "cell_type": "code",
   "execution_count": 6,
   "id": "3b8fab1f",
   "metadata": {},
   "outputs": [
    {
     "data": {
      "text/plain": [
       "{'Elma': 60, 'Muz': 100, 'Portakal': 80}"
      ]
     },
     "execution_count": 6,
     "metadata": {},
     "output_type": "execute_result"
    }
   ],
   "source": [
    "benimYemekKaloriSozlugum[\"Elma\"] = 60\n",
    "benimYemekKaloriSozlugum"
   ]
  },
  {
   "cell_type": "code",
   "execution_count": 7,
   "id": "6a84b3ad",
   "metadata": {},
   "outputs": [],
   "source": [
    "benimDigerSozlugum = {1:\"Yusuf\", 5:\"Şahin\"}"
   ]
  },
  {
   "cell_type": "code",
   "execution_count": 8,
   "id": "fe012803",
   "metadata": {},
   "outputs": [
    {
     "data": {
      "text/plain": [
       "'Şahin'"
      ]
     },
     "execution_count": 8,
     "metadata": {},
     "output_type": "execute_result"
    }
   ],
   "source": [
    "benimDigerSozlugum[5]"
   ]
  },
  {
   "cell_type": "code",
   "execution_count": 9,
   "id": "564e9d38",
   "metadata": {},
   "outputs": [],
   "source": [
    "yeniDictionary = {\"Anahtar1\" :100, \"Anahtar2\" : [10,20,30,\"Yusuf\"], \"Anahtar3\" : {\"Anahtar9\" :5}}"
   ]
  },
  {
   "cell_type": "code",
   "execution_count": 11,
   "id": "9a69d0fc",
   "metadata": {},
   "outputs": [
    {
     "data": {
      "text/plain": [
       "dict_keys(['Anahtar1', 'Anahtar2', 'Anahtar3'])"
      ]
     },
     "execution_count": 11,
     "metadata": {},
     "output_type": "execute_result"
    }
   ],
   "source": [
    "yeniDictionary.keys()\n"
   ]
  },
  {
   "cell_type": "code",
   "execution_count": 12,
   "id": "e7c70a99",
   "metadata": {},
   "outputs": [
    {
     "data": {
      "text/plain": [
       "dict_values([100, [10, 20, 30, 'Yusuf'], {'Anahtar9': 5}])"
      ]
     },
     "execution_count": 12,
     "metadata": {},
     "output_type": "execute_result"
    }
   ],
   "source": [
    "yeniDictionary.values()"
   ]
  },
  {
   "cell_type": "code",
   "execution_count": 13,
   "id": "64e79d7c",
   "metadata": {},
   "outputs": [
    {
     "data": {
      "text/plain": [
       "'Yusuf'"
      ]
     },
     "execution_count": 13,
     "metadata": {},
     "output_type": "execute_result"
    }
   ],
   "source": [
    "yeniDictionary[\"Anahtar2\"][-1]"
   ]
  },
  {
   "cell_type": "code",
   "execution_count": 14,
   "id": "a8a61850",
   "metadata": {},
   "outputs": [
    {
     "data": {
      "text/plain": [
       "5"
      ]
     },
     "execution_count": 14,
     "metadata": {},
     "output_type": "execute_result"
    }
   ],
   "source": [
    "yeniDictionary[\"Anahtar3\"][\"Anahtar9\"]"
   ]
  },
  {
   "cell_type": "code",
   "execution_count": 15,
   "id": "0ffb6c01",
   "metadata": {},
   "outputs": [],
   "source": [
    "#Sozluk içinde liste ya da iç içe sozluk kullanılabilir"
   ]
  },
  {
   "cell_type": "code",
   "execution_count": null,
   "id": "a17b0d46",
   "metadata": {},
   "outputs": [],
   "source": []
  }
 ],
 "metadata": {
  "kernelspec": {
   "display_name": "Python 3 (ipykernel)",
   "language": "python",
   "name": "python3"
  },
  "language_info": {
   "codemirror_mode": {
    "name": "ipython",
    "version": 3
   },
   "file_extension": ".py",
   "mimetype": "text/x-python",
   "name": "python",
   "nbconvert_exporter": "python",
   "pygments_lexer": "ipython3",
   "version": "3.9.13"
  }
 },
 "nbformat": 4,
 "nbformat_minor": 5
}
