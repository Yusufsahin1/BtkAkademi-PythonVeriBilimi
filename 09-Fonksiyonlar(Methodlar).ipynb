{
 "cells": [
  {
   "cell_type": "code",
   "execution_count": 53,
   "id": "ec1cdb6b",
   "metadata": {},
   "outputs": [
    {
     "data": {
      "text/plain": [
       "'YUSUF ŞAHIN'"
      ]
     },
     "execution_count": 53,
     "metadata": {},
     "output_type": "execute_result"
    }
   ],
   "source": [
    "benimAdim = \"Yusuf Şahin\"\n",
    "benimAdim.upper()"
   ]
  },
  {
   "cell_type": "code",
   "execution_count": 54,
   "id": "3501e051",
   "metadata": {},
   "outputs": [
    {
     "data": {
      "text/plain": [
       "'Yusuf Şahin'"
      ]
     },
     "execution_count": 54,
     "metadata": {},
     "output_type": "execute_result"
    }
   ],
   "source": [
    "benimAdim"
   ]
  },
  {
   "cell_type": "code",
   "execution_count": 55,
   "id": "47198dfe",
   "metadata": {},
   "outputs": [],
   "source": [
    "def merhabaDünya():\n",
    "    print(\"Merhaba Dünya\")"
   ]
  },
  {
   "cell_type": "code",
   "execution_count": 56,
   "id": "5e95c67b",
   "metadata": {},
   "outputs": [
    {
     "name": "stdout",
     "output_type": "stream",
     "text": [
      "Merhaba Dünya\n"
     ]
    }
   ],
   "source": [
    "merhabaDünya()"
   ]
  },
  {
   "cell_type": "code",
   "execution_count": 57,
   "id": "fdd586ca",
   "metadata": {},
   "outputs": [],
   "source": [
    "def merhaba(yazdirilacakIsim):\n",
    "    print(\"Merhaba \" + yazdirilacakIsim)"
   ]
  },
  {
   "cell_type": "code",
   "execution_count": 58,
   "id": "d68c19e4",
   "metadata": {},
   "outputs": [
    {
     "name": "stdout",
     "output_type": "stream",
     "text": [
      "Merhaba Yusuf\n"
     ]
    }
   ],
   "source": [
    "merhaba(\"Yusuf\")"
   ]
  },
  {
   "cell_type": "code",
   "execution_count": 59,
   "id": "49708690",
   "metadata": {},
   "outputs": [],
   "source": [
    "def toplama(sayi1, sayi2):\n",
    "    print(sayi1 + sayi2)"
   ]
  },
  {
   "cell_type": "code",
   "execution_count": 60,
   "id": "c20fcae8",
   "metadata": {},
   "outputs": [
    {
     "name": "stdout",
     "output_type": "stream",
     "text": [
      "30\n"
     ]
    }
   ],
   "source": [
    "toplama(10,20)"
   ]
  },
  {
   "cell_type": "code",
   "execution_count": 61,
   "id": "d99792dc",
   "metadata": {},
   "outputs": [
    {
     "name": "stdout",
     "output_type": "stream",
     "text": [
      "60\n"
     ]
    }
   ],
   "source": [
    "sonuc = toplama(20,40)"
   ]
  },
  {
   "cell_type": "code",
   "execution_count": 62,
   "id": "6186b86c",
   "metadata": {},
   "outputs": [],
   "source": [
    "sonuc"
   ]
  },
  {
   "cell_type": "code",
   "execution_count": 63,
   "id": "ab8e1236",
   "metadata": {},
   "outputs": [
    {
     "data": {
      "text/plain": [
       "NoneType"
      ]
     },
     "execution_count": 63,
     "metadata": {},
     "output_type": "execute_result"
    }
   ],
   "source": [
    "type(sonuc)"
   ]
  },
  {
   "cell_type": "code",
   "execution_count": 64,
   "id": "0e8d5624",
   "metadata": {},
   "outputs": [],
   "source": [
    "def toplama2(sayi1,sayi2):\n",
    "    return sayi1 + sayi2"
   ]
  },
  {
   "cell_type": "code",
   "execution_count": 65,
   "id": "b9170b8f",
   "metadata": {},
   "outputs": [
    {
     "data": {
      "text/plain": [
       "20"
      ]
     },
     "execution_count": 65,
     "metadata": {},
     "output_type": "execute_result"
    }
   ],
   "source": [
    "toplama2(15,5)"
   ]
  },
  {
   "cell_type": "code",
   "execution_count": 66,
   "id": "fd92e573",
   "metadata": {},
   "outputs": [],
   "source": [
    "sonuc = toplama2(100,150)"
   ]
  },
  {
   "cell_type": "code",
   "execution_count": 67,
   "id": "87981d78",
   "metadata": {},
   "outputs": [
    {
     "data": {
      "text/plain": [
       "250"
      ]
     },
     "execution_count": 67,
     "metadata": {},
     "output_type": "execute_result"
    }
   ],
   "source": [
    "sonuc"
   ]
  },
  {
   "cell_type": "code",
   "execution_count": 68,
   "id": "d4503e8b",
   "metadata": {},
   "outputs": [
    {
     "data": {
      "text/plain": [
       "int"
      ]
     },
     "execution_count": 68,
     "metadata": {},
     "output_type": "execute_result"
    }
   ],
   "source": [
    "type(sonuc)"
   ]
  },
  {
   "cell_type": "markdown",
   "id": "d6416fa0",
   "metadata": {},
   "source": [
    "# args & kwargs"
   ]
  },
  {
   "cell_type": "code",
   "execution_count": 69,
   "id": "1de66704",
   "metadata": {},
   "outputs": [],
   "source": [
    "def yeniToplama(*args):\n",
    "    return sum(args)"
   ]
  },
  {
   "cell_type": "code",
   "execution_count": 70,
   "id": "5f844568",
   "metadata": {},
   "outputs": [
    {
     "data": {
      "text/plain": [
       "100"
      ]
     },
     "execution_count": 70,
     "metadata": {},
     "output_type": "execute_result"
    }
   ],
   "source": [
    "yeniToplama(10,20,30,40)"
   ]
  },
  {
   "cell_type": "code",
   "execution_count": 71,
   "id": "74096aef",
   "metadata": {},
   "outputs": [
    {
     "data": {
      "text/plain": [
       "15"
      ]
     },
     "execution_count": 71,
     "metadata": {},
     "output_type": "execute_result"
    }
   ],
   "source": [
    "yeniToplama(5,10)"
   ]
  },
  {
   "cell_type": "code",
   "execution_count": 72,
   "id": "01f52b6d",
   "metadata": {},
   "outputs": [],
   "source": [
    "def benimFonksiyonum(*args):\n",
    "    return args"
   ]
  },
  {
   "cell_type": "code",
   "execution_count": 73,
   "id": "e5e10397",
   "metadata": {},
   "outputs": [
    {
     "data": {
      "text/plain": [
       "tuple"
      ]
     },
     "execution_count": 73,
     "metadata": {},
     "output_type": "execute_result"
    }
   ],
   "source": [
    "type (benimFonksiyonum(20,30,40))"
   ]
  },
  {
   "cell_type": "code",
   "execution_count": 74,
   "id": "49cc2395",
   "metadata": {},
   "outputs": [],
   "source": [
    "def ornekFonksiyon(**kwargs):\n",
    "    return kwargs\n"
   ]
  },
  {
   "cell_type": "code",
   "execution_count": 75,
   "id": "8c0b2cd5",
   "metadata": {},
   "outputs": [
    {
     "data": {
      "text/plain": [
       "dict"
      ]
     },
     "execution_count": 75,
     "metadata": {},
     "output_type": "execute_result"
    }
   ],
   "source": [
    "type(ornekFonksiyon(Yusuf = 22, Ahmet = 25, Ali = 34))"
   ]
  },
  {
   "cell_type": "code",
   "execution_count": 76,
   "id": "1e110d9d",
   "metadata": {},
   "outputs": [],
   "source": [
    "##Önemli olan * ve ** kullanmak. args ya da kwargs yerine farklı bir keyworrd de kullanılabilir ama standart bu şekildedir"
   ]
  },
  {
   "cell_type": "code",
   "execution_count": null,
   "id": "d788ec0b",
   "metadata": {},
   "outputs": [],
   "source": []
  }
 ],
 "metadata": {
  "kernelspec": {
   "display_name": "Python 3 (ipykernel)",
   "language": "python",
   "name": "python3"
  },
  "language_info": {
   "codemirror_mode": {
    "name": "ipython",
    "version": 3
   },
   "file_extension": ".py",
   "mimetype": "text/x-python",
   "name": "python",
   "nbconvert_exporter": "python",
   "pygments_lexer": "ipython3",
   "version": "3.9.13"
  }
 },
 "nbformat": 4,
 "nbformat_minor": 5
}
