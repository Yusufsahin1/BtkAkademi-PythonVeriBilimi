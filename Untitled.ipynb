{
 "cells": [
  {
   "cell_type": "code",
   "execution_count": 2,
   "id": "f5f34139",
   "metadata": {},
   "outputs": [],
   "source": [
    "import numpy as np"
   ]
  },
  {
   "cell_type": "code",
   "execution_count": 3,
   "id": "d40bc1c0",
   "metadata": {},
   "outputs": [],
   "source": [
    "numpy_array1=np.array([[0,1,2,3,4,5,6]])"
   ]
  },
  {
   "cell_type": "code",
   "execution_count": 4,
   "id": "09ec624a",
   "metadata": {},
   "outputs": [
    {
     "name": "stdout",
     "output_type": "stream",
     "text": [
      "2\n"
     ]
    }
   ],
   "source": [
    "print(numpy_array1.ndim)"
   ]
  },
  {
   "cell_type": "code",
   "execution_count": 10,
   "id": "beb58380",
   "metadata": {},
   "outputs": [
    {
     "name": "stdout",
     "output_type": "stream",
     "text": [
      "Bir sayı giriniz:987\n"
     ]
    }
   ],
   "source": [
    "sayi=input(\"Bir sayı giriniz:\")"
   ]
  },
  {
   "cell_type": "code",
   "execution_count": 11,
   "id": "b3fce4c7",
   "metadata": {},
   "outputs": [],
   "source": [
    "toplam=0 "
   ]
  },
  {
   "cell_type": "code",
   "execution_count": 12,
   "id": "bceb9f69",
   "metadata": {},
   "outputs": [
    {
     "name": "stdout",
     "output_type": "stream",
     "text": [
      "Sonuç: 9\n",
      "Sonuç: 17\n",
      "Sonuç: 24\n"
     ]
    }
   ],
   "source": [
    "for rakam in sayi:\n",
    "    toplam+=int(rakam)\n",
    "    print(\"Sonuç:\",toplam)"
   ]
  },
  {
   "cell_type": "code",
   "execution_count": null,
   "id": "7706cc31",
   "metadata": {},
   "outputs": [],
   "source": []
  }
 ],
 "metadata": {
  "kernelspec": {
   "display_name": "Python 3 (ipykernel)",
   "language": "python",
   "name": "python3"
  },
  "language_info": {
   "codemirror_mode": {
    "name": "ipython",
    "version": 3
   },
   "file_extension": ".py",
   "mimetype": "text/x-python",
   "name": "python",
   "nbconvert_exporter": "python",
   "pygments_lexer": "ipython3",
   "version": "3.9.13"
  }
 },
 "nbformat": 4,
 "nbformat_minor": 5
}
