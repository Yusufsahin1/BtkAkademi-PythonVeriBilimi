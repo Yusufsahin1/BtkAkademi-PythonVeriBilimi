{
 "cells": [
  {
   "cell_type": "code",
   "execution_count": 1,
   "id": "6610aa4a",
   "metadata": {},
   "outputs": [],
   "source": [
    "#Tuple koleksiyon tipinin listelerden farkı içindeki değerlerin değiştirilemez olmasıdır\n",
    "#Ayrıca syntax farklılığı olarak değerler köşeli parantez değil normal parantez içinde yazılır"
   ]
  },
  {
   "cell_type": "code",
   "execution_count": 2,
   "id": "6b1e3ef3",
   "metadata": {},
   "outputs": [
    {
     "data": {
      "text/plain": [
       "tuple"
      ]
     },
     "execution_count": 2,
     "metadata": {},
     "output_type": "execute_result"
    }
   ],
   "source": [
    "benimTuple = (1,2,3.5,\"Yusuf\")\n",
    "type(benimTuple)"
   ]
  },
  {
   "cell_type": "code",
   "execution_count": 3,
   "id": "b2d738e1",
   "metadata": {},
   "outputs": [
    {
     "data": {
      "text/plain": [
       "(1, 2, 3.5, 'Yusuf')"
      ]
     },
     "execution_count": 3,
     "metadata": {},
     "output_type": "execute_result"
    }
   ],
   "source": [
    "benimTuple"
   ]
  },
  {
   "cell_type": "code",
   "execution_count": 4,
   "id": "dd111559",
   "metadata": {},
   "outputs": [
    {
     "data": {
      "text/plain": [
       "1"
      ]
     },
     "execution_count": 4,
     "metadata": {},
     "output_type": "execute_result"
    }
   ],
   "source": [
    "benimTuple[0]"
   ]
  },
  {
   "cell_type": "code",
   "execution_count": 6,
   "id": "5024f63b",
   "metadata": {},
   "outputs": [],
   "source": [
    "#benimTuple[0] = 6\n",
    "#Böyle bir tanımlama hata verir. Çünkü Tuple yapısında böyle bir işlem mümkün değildir"
   ]
  },
  {
   "cell_type": "code",
   "execution_count": null,
   "id": "d974208a",
   "metadata": {},
   "outputs": [],
   "source": []
  }
 ],
 "metadata": {
  "kernelspec": {
   "display_name": "Python 3 (ipykernel)",
   "language": "python",
   "name": "python3"
  },
  "language_info": {
   "codemirror_mode": {
    "name": "ipython",
    "version": 3
   },
   "file_extension": ".py",
   "mimetype": "text/x-python",
   "name": "python",
   "nbconvert_exporter": "python",
   "pygments_lexer": "ipython3",
   "version": "3.9.13"
  }
 },
 "nbformat": 4,
 "nbformat_minor": 5
}
