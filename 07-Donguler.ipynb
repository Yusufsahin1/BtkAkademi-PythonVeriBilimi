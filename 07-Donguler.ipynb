{
 "cells": [
  {
   "cell_type": "markdown",
   "id": "35a71584",
   "metadata": {},
   "source": [
    "# FOR"
   ]
  },
  {
   "cell_type": "code",
   "execution_count": 2,
   "id": "4bb96a68",
   "metadata": {},
   "outputs": [
    {
     "name": "stdout",
     "output_type": "stream",
     "text": [
      "10\n",
      "20\n",
      "30\n",
      "40\n",
      "50\n",
      "60\n"
     ]
    }
   ],
   "source": [
    "benimListem = [10,20,30,40,50,60]\n",
    "for numara in benimListem:\n",
    "    print(numara)\n",
    "    "
   ]
  },
  {
   "cell_type": "code",
   "execution_count": 3,
   "id": "56abb15e",
   "metadata": {},
   "outputs": [
    {
     "name": "stdout",
     "output_type": "stream",
     "text": [
      "0\n",
      "2\n",
      "4\n",
      "6\n",
      "8\n"
     ]
    }
   ],
   "source": [
    "yeniListe = [0,1,2,3,4,5,6,7,8,9]\n",
    "for rakam in yeniListe:\n",
    "    if rakam % 2 == 0:\n",
    "        print(rakam)"
   ]
  },
  {
   "cell_type": "code",
   "execution_count": 4,
   "id": "adda975d",
   "metadata": {},
   "outputs": [
    {
     "name": "stdout",
     "output_type": "stream",
     "text": [
      "100\n",
      "70\n",
      "50\n"
     ]
    }
   ],
   "source": [
    "benimSozluk = {\"Muz\" : 100, \"Portakal\" : 70, \"Elma\" : 50}\n",
    "for (anahtar,deger) in benimSozluk.items():\n",
    "    print(deger)"
   ]
  },
  {
   "cell_type": "markdown",
   "id": "b6fb7a6d",
   "metadata": {},
   "source": [
    "# CONTİNUE-BREAK-PASS"
   ]
  },
  {
   "cell_type": "code",
   "execution_count": 5,
   "id": "f86181be",
   "metadata": {},
   "outputs": [
    {
     "name": "stdout",
     "output_type": "stream",
     "text": [
      "5\n",
      "10\n"
     ]
    }
   ],
   "source": [
    "digerListe = [5,10,15,20,25,30]\n",
    "for numara in digerListe:\n",
    "    if numara==15:\n",
    "        break\n",
    "    print(numara)"
   ]
  },
  {
   "cell_type": "code",
   "execution_count": 6,
   "id": "70d4631c",
   "metadata": {},
   "outputs": [
    {
     "name": "stdout",
     "output_type": "stream",
     "text": [
      "5\n",
      "10\n",
      "20\n",
      "25\n",
      "30\n"
     ]
    }
   ],
   "source": [
    "for numara in digerListe:\n",
    "    if numara==15:\n",
    "        continue\n",
    "    print(numara)"
   ]
  },
  {
   "cell_type": "code",
   "execution_count": 13,
   "id": "1a24fad0",
   "metadata": {},
   "outputs": [],
   "source": [
    "for numara in digerListe:\n",
    "    pass\n",
    "\n",
    "# “pass” Python anahtar kelimesi bir bloğu boş bıraktığınızda kullanılan bir yer tutucudur."
   ]
  },
  {
   "cell_type": "markdown",
   "id": "e5e6e857",
   "metadata": {},
   "source": [
    "# WHİLE"
   ]
  },
  {
   "cell_type": "code",
   "execution_count": 8,
   "id": "9e291b0e",
   "metadata": {},
   "outputs": [
    {
     "name": "stdout",
     "output_type": "stream",
     "text": [
      "Merhaba\n",
      "Merhaba\n",
      "Merhaba\n",
      "Merhaba\n",
      "Merhaba\n",
      "Merhaba\n",
      "Merhaba\n",
      "Merhaba\n",
      "Merhaba\n",
      "Merhaba\n"
     ]
    }
   ],
   "source": [
    "x=0\n",
    "while x<10:\n",
    "    print(\"Merhaba\")\n",
    "    x=x+1"
   ]
  },
  {
   "cell_type": "code",
   "execution_count": 9,
   "id": "df2e1285",
   "metadata": {},
   "outputs": [
    {
     "name": "stdout",
     "output_type": "stream",
     "text": [
      "Merhaba\n",
      "Merhaba\n",
      "Merhaba\n"
     ]
    }
   ],
   "source": [
    "sayiListesi = [10,20,30,40,50,60]\n",
    "while 40 in sayiListesi:\n",
    "    print(\"Merhaba\")\n",
    "    sayiListesi.pop()"
   ]
  },
  {
   "cell_type": "code",
   "execution_count": 10,
   "id": "dd53d6ac",
   "metadata": {},
   "outputs": [
    {
     "name": "stdout",
     "output_type": "stream",
     "text": [
      "0\n",
      "1\n",
      "2\n"
     ]
    }
   ],
   "source": [
    "numara=0\n",
    "while numara<5:\n",
    "    if numara == 3:\n",
    "        break\n",
    "    print(numara)\n",
    "    numara = numara + 1\n",
    "    \n",
    "    "
   ]
  },
  {
   "cell_type": "code",
   "execution_count": 11,
   "id": "db374cb8",
   "metadata": {},
   "outputs": [
    {
     "name": "stdout",
     "output_type": "stream",
     "text": [
      "Yeni Degiskenin Güncel Değeri: 0\n",
      "Yeni Degiskenin Güncel Değeri: 1\n",
      "Yeni Degiskenin Güncel Değeri: 2\n",
      "Yeni Degiskenin Güncel Değeri: 3\n",
      "Yeni Degiskenin Güncel Değeri: 4\n",
      "Yeni Degiskenin Güncel Değeri: 5\n",
      "Yeni Degiskenin Güncel Değeri: 6\n",
      "Yeni Degiskenin Güncel Değeri: 7\n",
      "Yeni Degiskenin Güncel Değeri: 8\n",
      "Yeni Degiskenin Güncel Değeri: 9\n",
      "Yeni Degiskenin Güncel Değeri: 10\n",
      "Yeni Degiskenin Güncel Değeri: 11\n",
      "Yeni Degiskenin Güncel Değeri: 12\n",
      "Yeni Degiskenin Güncel Değeri: 13\n",
      "Yeni Degiskenin Güncel Değeri: 14\n"
     ]
    }
   ],
   "source": [
    "yeniDegisken = 0\n",
    "while yeniDegisken < 15:\n",
    "    print(\"Yeni Degiskenin Güncel Değeri: \" + str(yeniDegisken))\n",
    "    yeniDegisken += 1"
   ]
  },
  {
   "cell_type": "code",
   "execution_count": 12,
   "id": "e6adfa48",
   "metadata": {},
   "outputs": [
    {
     "name": "stdout",
     "output_type": "stream",
     "text": [
      "Yeni Degiskenin Güncel Değeri:  0\n",
      "Yeni Degiskenin Güncel Değeri:  1\n",
      "Yeni Degiskenin Güncel Değeri:  2\n",
      "Yeni Degiskenin Güncel Değeri:  3\n",
      "Yeni Degiskenin Güncel Değeri:  4\n",
      "Yeni Degiskenin Güncel Değeri:  5\n",
      "Yeni Degiskenin Güncel Değeri:  6\n",
      "Yeni Degiskenin Güncel Değeri:  7\n",
      "Yeni Degiskenin Güncel Değeri:  8\n",
      "Yeni Degiskenin Güncel Değeri:  9\n",
      "Yeni Degiskenin Güncel Değeri:  10\n",
      "Yeni Degiskenin Güncel Değeri:  11\n",
      "Yeni Degiskenin Güncel Değeri:  12\n",
      "Yeni Degiskenin Güncel Değeri:  13\n",
      "Yeni Degiskenin Güncel Değeri:  14\n"
     ]
    }
   ],
   "source": [
    "yeniDegisken = 0\n",
    "while yeniDegisken < 15:\n",
    "    print(f\"Yeni Degiskenin Güncel Değeri:  {yeniDegisken}\")\n",
    "    yeniDegisken += 1\n",
    "\n",
    "#Bu yukarıdakinden daha doğru bir kullanım\n",
    "#f formatlama yapar ve süslü parantez içerisi kod olarak algılanır"
   ]
  },
  {
   "cell_type": "code",
   "execution_count": null,
   "id": "5e46b4d4",
   "metadata": {},
   "outputs": [],
   "source": []
  }
 ],
 "metadata": {
  "kernelspec": {
   "display_name": "Python 3 (ipykernel)",
   "language": "python",
   "name": "python3"
  },
  "language_info": {
   "codemirror_mode": {
    "name": "ipython",
    "version": 3
   },
   "file_extension": ".py",
   "mimetype": "text/x-python",
   "name": "python",
   "nbconvert_exporter": "python",
   "pygments_lexer": "ipython3",
   "version": "3.9.13"
  }
 },
 "nbformat": 4,
 "nbformat_minor": 5
}
