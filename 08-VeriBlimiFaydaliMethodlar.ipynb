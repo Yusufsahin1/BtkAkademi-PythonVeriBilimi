{
 "cells": [
  {
   "cell_type": "code",
   "execution_count": 1,
   "id": "38f9c23f",
   "metadata": {},
   "outputs": [
    {
     "name": "stdout",
     "output_type": "stream",
     "text": [
      "0\n",
      "1\n",
      "2\n",
      "3\n",
      "4\n",
      "5\n",
      "6\n"
     ]
    }
   ],
   "source": [
    "benimListem = [0,1,2,3,4,5,6]\n",
    "\n",
    "for numara in benimListem:\n",
    "    print(numara)"
   ]
  },
  {
   "cell_type": "markdown",
   "id": "1e5abad2",
   "metadata": {},
   "source": [
    "# Range"
   ]
  },
  {
   "cell_type": "code",
   "execution_count": 2,
   "id": "23db376a",
   "metadata": {},
   "outputs": [
    {
     "data": {
      "text/plain": [
       "range(0, 15)"
      ]
     },
     "execution_count": 2,
     "metadata": {},
     "output_type": "execute_result"
    }
   ],
   "source": [
    "range(15)\n"
   ]
  },
  {
   "cell_type": "code",
   "execution_count": 3,
   "id": "2ccfb8be",
   "metadata": {},
   "outputs": [
    {
     "data": {
      "text/plain": [
       "[0, 1, 2, 3, 4, 5, 6, 7, 8, 9, 10, 11, 12, 13, 14, 15, 16, 17, 18, 19]"
      ]
     },
     "execution_count": 3,
     "metadata": {},
     "output_type": "execute_result"
    }
   ],
   "source": [
    "list (range(20))"
   ]
  },
  {
   "cell_type": "code",
   "execution_count": 4,
   "id": "92c9f57a",
   "metadata": {},
   "outputs": [
    {
     "name": "stdout",
     "output_type": "stream",
     "text": [
      "0\n",
      "5\n",
      "10\n",
      "15\n",
      "20\n",
      "25\n",
      "30\n",
      "35\n",
      "40\n",
      "45\n",
      "50\n",
      "55\n",
      "60\n",
      "65\n",
      "70\n"
     ]
    }
   ],
   "source": [
    "for numara in list(range(15)):\n",
    "    print(numara*5)"
   ]
  },
  {
   "cell_type": "code",
   "execution_count": 26,
   "id": "9a9cbccc",
   "metadata": {},
   "outputs": [
    {
     "data": {
      "text/plain": [
       "[5, 8, 11, 14, 17]"
      ]
     },
     "execution_count": 26,
     "metadata": {},
     "output_type": "execute_result"
    }
   ],
   "source": [
    "list(range(5,20,3))"
   ]
  },
  {
   "cell_type": "markdown",
   "id": "23697c5f",
   "metadata": {},
   "source": [
    "# Enumerate"
   ]
  },
  {
   "cell_type": "code",
   "execution_count": 6,
   "id": "e05334e5",
   "metadata": {},
   "outputs": [
    {
     "name": "stdout",
     "output_type": "stream",
     "text": [
      "Güncel Numara: 5 Güncel index: 0\n",
      "Güncel Numara: 6 Güncel index: 1\n",
      "Güncel Numara: 7 Güncel index: 2\n",
      "Güncel Numara: 8 Güncel index: 3\n",
      "Güncel Numara: 9 Güncel index: 4\n",
      "Güncel Numara: 10 Güncel index: 5\n",
      "Güncel Numara: 11 Güncel index: 6\n",
      "Güncel Numara: 12 Güncel index: 7\n",
      "Güncel Numara: 13 Güncel index: 8\n",
      "Güncel Numara: 14 Güncel index: 9\n"
     ]
    }
   ],
   "source": [
    "index = 0\n",
    "for numara in list(range(5,15)):\n",
    "    print(f\"Güncel Numara: {numara } Güncel index: {index}\")\n",
    "    index = index + 1"
   ]
  },
  {
   "cell_type": "code",
   "execution_count": 7,
   "id": "f8d343c3",
   "metadata": {},
   "outputs": [
    {
     "name": "stdout",
     "output_type": "stream",
     "text": [
      "(0, 5)\n",
      "(1, 6)\n",
      "(2, 7)\n",
      "(3, 8)\n",
      "(4, 9)\n",
      "(5, 10)\n",
      "(6, 11)\n",
      "(7, 12)\n",
      "(8, 13)\n",
      "(9, 14)\n"
     ]
    }
   ],
   "source": [
    "for eleman in enumerate(list(range(5,15))):\n",
    "    print(eleman)"
   ]
  },
  {
   "cell_type": "code",
   "execution_count": 8,
   "id": "e8c50201",
   "metadata": {},
   "outputs": [
    {
     "name": "stdout",
     "output_type": "stream",
     "text": [
      "5\n",
      "6\n",
      "7\n",
      "8\n",
      "9\n",
      "10\n",
      "11\n",
      "12\n",
      "13\n",
      "14\n"
     ]
    }
   ],
   "source": [
    "for (index,numara) in enumerate(list(range(5,15))):\n",
    "    print(numara)"
   ]
  },
  {
   "cell_type": "markdown",
   "id": "5aa861f7",
   "metadata": {},
   "source": [
    "# Random"
   ]
  },
  {
   "cell_type": "code",
   "execution_count": 9,
   "id": "938250dd",
   "metadata": {},
   "outputs": [],
   "source": [
    "from random import randint"
   ]
  },
  {
   "cell_type": "code",
   "execution_count": 29,
   "id": "2495842e",
   "metadata": {},
   "outputs": [
    {
     "data": {
      "text/plain": [
       "98"
      ]
     },
     "execution_count": 29,
     "metadata": {},
     "output_type": "execute_result"
    }
   ],
   "source": [
    "randint(0,100)"
   ]
  },
  {
   "cell_type": "code",
   "execution_count": 32,
   "id": "4ff0788a",
   "metadata": {},
   "outputs": [
    {
     "data": {
      "text/plain": [
       "28"
      ]
     },
     "execution_count": 32,
     "metadata": {},
     "output_type": "execute_result"
    }
   ],
   "source": [
    "randint(0,100)"
   ]
  },
  {
   "cell_type": "code",
   "execution_count": 12,
   "id": "e55a1131",
   "metadata": {},
   "outputs": [
    {
     "data": {
      "text/plain": [
       "19"
      ]
     },
     "execution_count": 12,
     "metadata": {},
     "output_type": "execute_result"
    }
   ],
   "source": [
    "randint(0,100)"
   ]
  },
  {
   "cell_type": "code",
   "execution_count": 13,
   "id": "095b8161",
   "metadata": {},
   "outputs": [],
   "source": [
    "yeniListe = list(range(0,10))"
   ]
  },
  {
   "cell_type": "code",
   "execution_count": 14,
   "id": "93f49778",
   "metadata": {},
   "outputs": [
    {
     "data": {
      "text/plain": [
       "[0, 1, 2, 3, 4, 5, 6, 7, 8, 9]"
      ]
     },
     "execution_count": 14,
     "metadata": {},
     "output_type": "execute_result"
    }
   ],
   "source": [
    "yeniListe"
   ]
  },
  {
   "cell_type": "code",
   "execution_count": 15,
   "id": "9f5c9026",
   "metadata": {},
   "outputs": [],
   "source": [
    "from random import shuffle\n",
    "#shuffle listeyi karıştırır"
   ]
  },
  {
   "cell_type": "code",
   "execution_count": 16,
   "id": "b198979a",
   "metadata": {},
   "outputs": [],
   "source": [
    "shuffle(yeniListe)"
   ]
  },
  {
   "cell_type": "code",
   "execution_count": 17,
   "id": "71f7b1c1",
   "metadata": {},
   "outputs": [
    {
     "data": {
      "text/plain": [
       "[4, 8, 5, 2, 0, 7, 9, 1, 6, 3]"
      ]
     },
     "execution_count": 17,
     "metadata": {},
     "output_type": "execute_result"
    }
   ],
   "source": [
    "yeniListe"
   ]
  },
  {
   "cell_type": "code",
   "execution_count": 18,
   "id": "84df2bef",
   "metadata": {},
   "outputs": [
    {
     "data": {
      "text/plain": [
       "[7, 6, 1, 2, 8, 3, 0, 5, 4, 9]"
      ]
     },
     "execution_count": 18,
     "metadata": {},
     "output_type": "execute_result"
    }
   ],
   "source": [
    "shuffle(yeniListe)\n",
    "yeniListe"
   ]
  },
  {
   "cell_type": "markdown",
   "id": "1c6e5f0a",
   "metadata": {},
   "source": [
    "# Zip"
   ]
  },
  {
   "cell_type": "code",
   "execution_count": 19,
   "id": "07e3b0f3",
   "metadata": {},
   "outputs": [],
   "source": [
    "yemekListesi = [\"Muz\", \"Ananas\", \"Elma\"]\n",
    "kaloriListesi = [100,80,60]\n",
    "gunListesi = [\"Pazartesi\", \"Salı\", \"Çarşamba\"]\n",
    "\n",
    "ziplenmisListe = list(zip(yemekListesi,kaloriListesi,gunListesi))"
   ]
  },
  {
   "cell_type": "code",
   "execution_count": 20,
   "id": "daef1642",
   "metadata": {},
   "outputs": [
    {
     "data": {
      "text/plain": [
       "[('Muz', 100, 'Pazartesi'), ('Ananas', 80, 'Salı'), ('Elma', 60, 'Çarşamba')]"
      ]
     },
     "execution_count": 20,
     "metadata": {},
     "output_type": "execute_result"
    }
   ],
   "source": [
    "ziplenmisListe"
   ]
  },
  {
   "cell_type": "code",
   "execution_count": 21,
   "id": "a5edf8da",
   "metadata": {},
   "outputs": [
    {
     "name": "stdout",
     "output_type": "stream",
     "text": [
      "<class 'tuple'>\n",
      "<class 'tuple'>\n",
      "<class 'tuple'>\n"
     ]
    }
   ],
   "source": [
    "for eleman in ziplenmisListe:\n",
    "    print(type(eleman))"
   ]
  },
  {
   "cell_type": "markdown",
   "id": "863b5038",
   "metadata": {},
   "source": [
    "# Listeler İleri Seviye "
   ]
  },
  {
   "cell_type": "code",
   "execution_count": 22,
   "id": "5784f901",
   "metadata": {},
   "outputs": [],
   "source": [
    "listeOrnegi = []\n",
    "benimString = \"Yusuf Sahin\"\n",
    "\n",
    "for harf in benimString:\n",
    "    listeOrnegi.append(harf)\n"
   ]
  },
  {
   "cell_type": "code",
   "execution_count": 23,
   "id": "0d436fed",
   "metadata": {},
   "outputs": [
    {
     "data": {
      "text/plain": [
       "['Y', 'u', 's', 'u', 'f', ' ', 'S', 'a', 'h', 'i', 'n']"
      ]
     },
     "execution_count": 23,
     "metadata": {},
     "output_type": "execute_result"
    }
   ],
   "source": [
    "listeOrnegi"
   ]
  },
  {
   "cell_type": "code",
   "execution_count": null,
   "id": "839a2e09",
   "metadata": {},
   "outputs": [],
   "source": []
  }
 ],
 "metadata": {
  "kernelspec": {
   "display_name": "Python 3 (ipykernel)",
   "language": "python",
   "name": "python3"
  },
  "language_info": {
   "codemirror_mode": {
    "name": "ipython",
    "version": 3
   },
   "file_extension": ".py",
   "mimetype": "text/x-python",
   "name": "python",
   "nbconvert_exporter": "python",
   "pygments_lexer": "ipython3",
   "version": "3.9.13"
  }
 },
 "nbformat": 4,
 "nbformat_minor": 5
}
